{
 "cells": [
  {
   "cell_type": "code",
   "execution_count": 13,
   "metadata": {},
   "outputs": [],
   "source": [
    "import pandas as pd"
   ]
  },
  {
   "cell_type": "code",
   "execution_count": 14,
   "metadata": {},
   "outputs": [],
   "source": [
    "pd.set_option('display.max_columns', None)\n",
    "pd.set_option('display.width', None)"
   ]
  },
  {
   "cell_type": "markdown",
   "metadata": {},
   "source": [
    "## Imports"
   ]
  },
  {
   "cell_type": "code",
   "execution_count": 19,
   "metadata": {},
   "outputs": [],
   "source": [
    "df = pd.read_parquet(\"../../data/processed/air/df_air_quality_and_locations_from_2013.parquet\")"
   ]
  },
  {
   "cell_type": "code",
   "execution_count": 20,
   "metadata": {},
   "outputs": [],
   "source": [
    "df = df[['FECHA', 'NO2_VALUE', 'LONGITUD', 'LATITUD']].rename(columns=str.lower)"
   ]
  },
  {
   "cell_type": "code",
   "execution_count": 22,
   "metadata": {},
   "outputs": [],
   "source": [
    "df.to_csv(\"air_data.csv\", index = False)"
   ]
  },
  {
   "cell_type": "code",
   "execution_count": 23,
   "metadata": {},
   "outputs": [
    {
     "data": {
      "text/html": [
       "<div>\n",
       "<style scoped>\n",
       "    .dataframe tbody tr th:only-of-type {\n",
       "        vertical-align: middle;\n",
       "    }\n",
       "\n",
       "    .dataframe tbody tr th {\n",
       "        vertical-align: top;\n",
       "    }\n",
       "\n",
       "    .dataframe thead th {\n",
       "        text-align: right;\n",
       "    }\n",
       "</style>\n",
       "<table border=\"1\" class=\"dataframe\">\n",
       "  <thead>\n",
       "    <tr style=\"text-align: right;\">\n",
       "      <th></th>\n",
       "      <th>fecha</th>\n",
       "      <th>no2_value</th>\n",
       "      <th>longitud</th>\n",
       "      <th>latitud</th>\n",
       "    </tr>\n",
       "  </thead>\n",
       "  <tbody>\n",
       "    <tr>\n",
       "      <th>0</th>\n",
       "      <td>2013-01-01 01:00:00</td>\n",
       "      <td>35.0</td>\n",
       "      <td>-3.712257</td>\n",
       "      <td>40.423882</td>\n",
       "    </tr>\n",
       "    <tr>\n",
       "      <th>1</th>\n",
       "      <td>2013-01-01 02:00:00</td>\n",
       "      <td>52.0</td>\n",
       "      <td>-3.712257</td>\n",
       "      <td>40.423882</td>\n",
       "    </tr>\n",
       "    <tr>\n",
       "      <th>2</th>\n",
       "      <td>2013-01-01 03:00:00</td>\n",
       "      <td>35.0</td>\n",
       "      <td>-3.712257</td>\n",
       "      <td>40.423882</td>\n",
       "    </tr>\n",
       "    <tr>\n",
       "      <th>3</th>\n",
       "      <td>2013-01-01 04:00:00</td>\n",
       "      <td>19.0</td>\n",
       "      <td>-3.712257</td>\n",
       "      <td>40.423882</td>\n",
       "    </tr>\n",
       "    <tr>\n",
       "      <th>4</th>\n",
       "      <td>2013-01-01 05:00:00</td>\n",
       "      <td>14.0</td>\n",
       "      <td>-3.712257</td>\n",
       "      <td>40.423882</td>\n",
       "    </tr>\n",
       "    <tr>\n",
       "      <th>...</th>\n",
       "      <td>...</td>\n",
       "      <td>...</td>\n",
       "      <td>...</td>\n",
       "      <td>...</td>\n",
       "    </tr>\n",
       "    <tr>\n",
       "      <th>2490931</th>\n",
       "      <td>2024-11-30 20:00:00</td>\n",
       "      <td>58.0</td>\n",
       "      <td>-3.689731</td>\n",
       "      <td>40.500548</td>\n",
       "    </tr>\n",
       "    <tr>\n",
       "      <th>2490932</th>\n",
       "      <td>2024-11-30 21:00:00</td>\n",
       "      <td>61.0</td>\n",
       "      <td>-3.689731</td>\n",
       "      <td>40.500548</td>\n",
       "    </tr>\n",
       "    <tr>\n",
       "      <th>2490933</th>\n",
       "      <td>2024-11-30 22:00:00</td>\n",
       "      <td>66.0</td>\n",
       "      <td>-3.689731</td>\n",
       "      <td>40.500548</td>\n",
       "    </tr>\n",
       "    <tr>\n",
       "      <th>2490934</th>\n",
       "      <td>2024-11-30 23:00:00</td>\n",
       "      <td>77.0</td>\n",
       "      <td>-3.689731</td>\n",
       "      <td>40.500548</td>\n",
       "    </tr>\n",
       "    <tr>\n",
       "      <th>2490935</th>\n",
       "      <td>2024-12-01 00:00:00</td>\n",
       "      <td>70.0</td>\n",
       "      <td>-3.689731</td>\n",
       "      <td>40.500548</td>\n",
       "    </tr>\n",
       "  </tbody>\n",
       "</table>\n",
       "<p>2490936 rows × 4 columns</p>\n",
       "</div>"
      ],
      "text/plain": [
       "                      fecha  no2_value  longitud    latitud\n",
       "0       2013-01-01 01:00:00       35.0 -3.712257  40.423882\n",
       "1       2013-01-01 02:00:00       52.0 -3.712257  40.423882\n",
       "2       2013-01-01 03:00:00       35.0 -3.712257  40.423882\n",
       "3       2013-01-01 04:00:00       19.0 -3.712257  40.423882\n",
       "4       2013-01-01 05:00:00       14.0 -3.712257  40.423882\n",
       "...                     ...        ...       ...        ...\n",
       "2490931 2024-11-30 20:00:00       58.0 -3.689731  40.500548\n",
       "2490932 2024-11-30 21:00:00       61.0 -3.689731  40.500548\n",
       "2490933 2024-11-30 22:00:00       66.0 -3.689731  40.500548\n",
       "2490934 2024-11-30 23:00:00       77.0 -3.689731  40.500548\n",
       "2490935 2024-12-01 00:00:00       70.0 -3.689731  40.500548\n",
       "\n",
       "[2490936 rows x 4 columns]"
      ]
     },
     "execution_count": 23,
     "metadata": {},
     "output_type": "execute_result"
    }
   ],
   "source": [
    "df"
   ]
  },
  {
   "cell_type": "code",
   "execution_count": null,
   "metadata": {},
   "outputs": [],
   "source": []
  }
 ],
 "metadata": {
  "kernelspec": {
   "display_name": "master_thesis",
   "language": "python",
   "name": "python3"
  },
  "language_info": {
   "codemirror_mode": {
    "name": "ipython",
    "version": 3
   },
   "file_extension": ".py",
   "mimetype": "text/x-python",
   "name": "python",
   "nbconvert_exporter": "python",
   "pygments_lexer": "ipython3",
   "version": "3.12.8"
  }
 },
 "nbformat": 4,
 "nbformat_minor": 2
}
