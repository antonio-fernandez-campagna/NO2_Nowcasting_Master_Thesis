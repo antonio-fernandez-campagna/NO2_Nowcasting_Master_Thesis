{
 "cells": [
  {
   "cell_type": "code",
   "execution_count": 2,
   "metadata": {},
   "outputs": [],
   "source": [
    "import pandas as pd\n",
    "\n",
    "# display all pandas columns\n",
    "pd.set_option('display.max_columns', None)  # Show all columns"
   ]
  },
  {
   "cell_type": "markdown",
   "metadata": {},
   "source": [
    "## Data import"
   ]
  },
  {
   "cell_type": "code",
   "execution_count": 3,
   "metadata": {},
   "outputs": [],
   "source": [
    "df_traffic_data = pd.read_excel('../../data/raw/traffic_sensors_locations/2024/pmed_ubicacion_01-2024.xlsx') \n",
    "df_air_quality_and_locations = pd.read_parquet(\"../../data/processed/air/df_air_quality_and_locations_from_2013.parquet\")"
   ]
  },
  {
   "cell_type": "code",
   "execution_count": 4,
   "metadata": {},
   "outputs": [
    {
     "data": {
      "text/plain": [
       "4910"
      ]
     },
     "execution_count": 4,
     "metadata": {},
     "output_type": "execute_result"
    }
   ],
   "source": [
    "len(df_traffic_data)"
   ]
  },
  {
   "cell_type": "code",
   "execution_count": 5,
   "metadata": {},
   "outputs": [
    {
     "data": {
      "text/plain": [
       "4910"
      ]
     },
     "execution_count": 5,
     "metadata": {},
     "output_type": "execute_result"
    }
   ],
   "source": [
    "len(df_traffic_data.drop_duplicates(subset=['longitud', 'latitud']))"
   ]
  },
  {
   "cell_type": "code",
   "execution_count": 6,
   "metadata": {},
   "outputs": [
    {
     "data": {
      "text/plain": [
       "2490936"
      ]
     },
     "execution_count": 6,
     "metadata": {},
     "output_type": "execute_result"
    }
   ],
   "source": [
    "len(df_air_quality_and_locations)"
   ]
  },
  {
   "cell_type": "code",
   "execution_count": 7,
   "metadata": {},
   "outputs": [
    {
     "data": {
      "text/plain": [
       "24"
      ]
     },
     "execution_count": 7,
     "metadata": {},
     "output_type": "execute_result"
    }
   ],
   "source": [
    "len(df_air_quality_and_locations.drop_duplicates(subset=[\"LONGITUD\", \"LATITUD\"]))"
   ]
  },
  {
   "cell_type": "code",
   "execution_count": 8,
   "metadata": {},
   "outputs": [],
   "source": [
    "# Remove duplicates for air quality data\n",
    "df_air_quality_and_locations = df_air_quality_and_locations.drop_duplicates(subset=[\"LONGITUD\", \"LATITUD\"])\n",
    "\n",
    "# Remove duplicates for traffic data\n",
    "df_traffic_data = df_traffic_data.drop_duplicates(subset=['longitud', 'latitud'])  # Assuming 'id' is the identifier for the traffic sensor"
   ]
  },
  {
   "cell_type": "code",
   "execution_count": 9,
   "metadata": {},
   "outputs": [],
   "source": [
    "df_traffic_data = df_traffic_data.rename(columns = {'id':'id_trafico'}) "
   ]
  },
  {
   "cell_type": "code",
   "execution_count": 10,
   "metadata": {},
   "outputs": [],
   "source": [
    "df_air_quality_and_locations.columns = df_air_quality_and_locations.columns.str.lower()\n",
    "df_air_quality_and_locations = df_air_quality_and_locations.rename(columns = {'codigo':'id_no2'})"
   ]
  },
  {
   "cell_type": "code",
   "execution_count": 11,
   "metadata": {},
   "outputs": [
    {
     "data": {
      "text/html": [
       "<div>\n",
       "<style scoped>\n",
       "    .dataframe tbody tr th:only-of-type {\n",
       "        vertical-align: middle;\n",
       "    }\n",
       "\n",
       "    .dataframe tbody tr th {\n",
       "        vertical-align: top;\n",
       "    }\n",
       "\n",
       "    .dataframe thead th {\n",
       "        text-align: right;\n",
       "    }\n",
       "</style>\n",
       "<table border=\"1\" class=\"dataframe\">\n",
       "  <thead>\n",
       "    <tr style=\"text-align: right;\">\n",
       "      <th></th>\n",
       "      <th>id_no2</th>\n",
       "      <th>longitud</th>\n",
       "      <th>latitud</th>\n",
       "    </tr>\n",
       "  </thead>\n",
       "  <tbody>\n",
       "    <tr>\n",
       "      <th>0</th>\n",
       "      <td>28079004</td>\n",
       "      <td>-3.712257</td>\n",
       "      <td>40.423882</td>\n",
       "    </tr>\n",
       "    <tr>\n",
       "      <th>98712</th>\n",
       "      <td>28079008</td>\n",
       "      <td>-3.682316</td>\n",
       "      <td>40.421553</td>\n",
       "    </tr>\n",
       "    <tr>\n",
       "      <th>202464</th>\n",
       "      <td>28079011</td>\n",
       "      <td>-3.677349</td>\n",
       "      <td>40.451473</td>\n",
       "    </tr>\n",
       "    <tr>\n",
       "      <th>305568</th>\n",
       "      <td>28079016</td>\n",
       "      <td>-3.639242</td>\n",
       "      <td>40.440046</td>\n",
       "    </tr>\n",
       "    <tr>\n",
       "      <th>407592</th>\n",
       "      <td>28079017</td>\n",
       "      <td>-3.713317</td>\n",
       "      <td>40.347147</td>\n",
       "    </tr>\n",
       "    <tr>\n",
       "      <th>512040</th>\n",
       "      <td>28079018</td>\n",
       "      <td>-3.731836</td>\n",
       "      <td>40.394782</td>\n",
       "    </tr>\n",
       "    <tr>\n",
       "      <th>615888</th>\n",
       "      <td>28079024</td>\n",
       "      <td>-3.747345</td>\n",
       "      <td>40.419358</td>\n",
       "    </tr>\n",
       "    <tr>\n",
       "      <th>719952</th>\n",
       "      <td>28079027</td>\n",
       "      <td>-3.580026</td>\n",
       "      <td>40.476918</td>\n",
       "    </tr>\n",
       "    <tr>\n",
       "      <th>824400</th>\n",
       "      <td>28079035</td>\n",
       "      <td>-3.703166</td>\n",
       "      <td>40.419209</td>\n",
       "    </tr>\n",
       "    <tr>\n",
       "      <th>926640</th>\n",
       "      <td>28079036</td>\n",
       "      <td>-3.645310</td>\n",
       "      <td>40.407952</td>\n",
       "    </tr>\n",
       "    <tr>\n",
       "      <th>1030320</th>\n",
       "      <td>28079038</td>\n",
       "      <td>-3.707130</td>\n",
       "      <td>40.445544</td>\n",
       "    </tr>\n",
       "    <tr>\n",
       "      <th>1134432</th>\n",
       "      <td>28079039</td>\n",
       "      <td>-3.711536</td>\n",
       "      <td>40.478232</td>\n",
       "    </tr>\n",
       "    <tr>\n",
       "      <th>1238784</th>\n",
       "      <td>28079040</td>\n",
       "      <td>-3.651529</td>\n",
       "      <td>40.388148</td>\n",
       "    </tr>\n",
       "    <tr>\n",
       "      <th>1343160</th>\n",
       "      <td>28079047</td>\n",
       "      <td>-3.686814</td>\n",
       "      <td>40.398099</td>\n",
       "    </tr>\n",
       "    <tr>\n",
       "      <th>1447344</th>\n",
       "      <td>28079048</td>\n",
       "      <td>-3.690373</td>\n",
       "      <td>40.439890</td>\n",
       "    </tr>\n",
       "    <tr>\n",
       "      <th>1551768</th>\n",
       "      <td>28079049</td>\n",
       "      <td>-3.682500</td>\n",
       "      <td>40.414444</td>\n",
       "    </tr>\n",
       "    <tr>\n",
       "      <th>1656216</th>\n",
       "      <td>28079050</td>\n",
       "      <td>-3.688745</td>\n",
       "      <td>40.465584</td>\n",
       "    </tr>\n",
       "    <tr>\n",
       "      <th>1760664</th>\n",
       "      <td>28079054</td>\n",
       "      <td>-3.612139</td>\n",
       "      <td>40.373012</td>\n",
       "    </tr>\n",
       "    <tr>\n",
       "      <th>1865112</th>\n",
       "      <td>28079055</td>\n",
       "      <td>-3.580565</td>\n",
       "      <td>40.462363</td>\n",
       "    </tr>\n",
       "    <tr>\n",
       "      <th>1969560</th>\n",
       "      <td>28079056</td>\n",
       "      <td>-3.718768</td>\n",
       "      <td>40.385034</td>\n",
       "    </tr>\n",
       "    <tr>\n",
       "      <th>2073792</th>\n",
       "      <td>28079057</td>\n",
       "      <td>-3.660517</td>\n",
       "      <td>40.494201</td>\n",
       "    </tr>\n",
       "    <tr>\n",
       "      <th>2178216</th>\n",
       "      <td>28079058</td>\n",
       "      <td>-3.774610</td>\n",
       "      <td>40.518070</td>\n",
       "    </tr>\n",
       "    <tr>\n",
       "      <th>2282616</th>\n",
       "      <td>28079059</td>\n",
       "      <td>-3.609031</td>\n",
       "      <td>40.465144</td>\n",
       "    </tr>\n",
       "    <tr>\n",
       "      <th>2386632</th>\n",
       "      <td>28079060</td>\n",
       "      <td>-3.689731</td>\n",
       "      <td>40.500548</td>\n",
       "    </tr>\n",
       "  </tbody>\n",
       "</table>\n",
       "</div>"
      ],
      "text/plain": [
       "           id_no2  longitud    latitud\n",
       "0        28079004 -3.712257  40.423882\n",
       "98712    28079008 -3.682316  40.421553\n",
       "202464   28079011 -3.677349  40.451473\n",
       "305568   28079016 -3.639242  40.440046\n",
       "407592   28079017 -3.713317  40.347147\n",
       "512040   28079018 -3.731836  40.394782\n",
       "615888   28079024 -3.747345  40.419358\n",
       "719952   28079027 -3.580026  40.476918\n",
       "824400   28079035 -3.703166  40.419209\n",
       "926640   28079036 -3.645310  40.407952\n",
       "1030320  28079038 -3.707130  40.445544\n",
       "1134432  28079039 -3.711536  40.478232\n",
       "1238784  28079040 -3.651529  40.388148\n",
       "1343160  28079047 -3.686814  40.398099\n",
       "1447344  28079048 -3.690373  40.439890\n",
       "1551768  28079049 -3.682500  40.414444\n",
       "1656216  28079050 -3.688745  40.465584\n",
       "1760664  28079054 -3.612139  40.373012\n",
       "1865112  28079055 -3.580565  40.462363\n",
       "1969560  28079056 -3.718768  40.385034\n",
       "2073792  28079057 -3.660517  40.494201\n",
       "2178216  28079058 -3.774610  40.518070\n",
       "2282616  28079059 -3.609031  40.465144\n",
       "2386632  28079060 -3.689731  40.500548"
      ]
     },
     "execution_count": 11,
     "metadata": {},
     "output_type": "execute_result"
    }
   ],
   "source": [
    "df_air_quality_and_locations[['id_no2','longitud','latitud']]"
   ]
  },
  {
   "cell_type": "code",
   "execution_count": 14,
   "metadata": {},
   "outputs": [],
   "source": [
    "df_traffic_data[['id_trafico','longitud','latitud']].to_csv('traffic_data_locations_2024.csv', index = False)"
   ]
  },
  {
   "cell_type": "code",
   "execution_count": 15,
   "metadata": {},
   "outputs": [],
   "source": [
    "df_air_quality_and_locations[['id_no2','longitud','latitud']].to_csv('no2_data_locations.csv', index = False)"
   ]
  },
  {
   "cell_type": "code",
   "execution_count": null,
   "metadata": {},
   "outputs": [],
   "source": []
  }
 ],
 "metadata": {
  "kernelspec": {
   "display_name": "master_thesis",
   "language": "python",
   "name": "python3"
  },
  "language_info": {
   "codemirror_mode": {
    "name": "ipython",
    "version": 3
   },
   "file_extension": ".py",
   "mimetype": "text/x-python",
   "name": "python",
   "nbconvert_exporter": "python",
   "pygments_lexer": "ipython3",
   "version": "3.12.8"
  }
 },
 "nbformat": 4,
 "nbformat_minor": 2
}
