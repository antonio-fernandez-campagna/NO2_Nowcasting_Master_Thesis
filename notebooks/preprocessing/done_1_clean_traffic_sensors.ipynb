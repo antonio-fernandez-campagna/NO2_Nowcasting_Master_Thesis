{
 "cells": [
  {
   "cell_type": "code",
   "execution_count": 1,
   "metadata": {},
   "outputs": [],
   "source": [
    "import pandas as pd\n",
    "from tqdm import tqdm\n",
    "import os"
   ]
  },
  {
   "cell_type": "code",
   "execution_count": 2,
   "metadata": {},
   "outputs": [
    {
     "name": "stdout",
     "output_type": "stream",
     "text": [
      "Processing folder: ../../data/raw/traffic_sensors_locations/2019\n"
     ]
    },
    {
     "name": "stderr",
     "output_type": "stream",
     "text": [
      "/var/folders/kc/t6c9n8gj7mbblj0w7sy3ykwm0000gn/T/ipykernel_37735/1741482127.py:39: FutureWarning: The behavior of DataFrame concatenation with empty or all-NA entries is deprecated. In a future version, this will no longer exclude empty or all-NA columns when determining the result dtypes. To retain the old behavior, exclude the relevant entries before the concat operation.\n",
      "  aux_df = pd.concat([aux_df, df_unique], ignore_index=True)\n"
     ]
    },
    {
     "name": "stdout",
     "output_type": "stream",
     "text": [
      "Processed file: pmed_ubicacion_01-2019.xlsx\n",
      "Processing folder: ../../data/raw/traffic_sensors_locations/2020\n",
      "Processed file: pmed_ubicacion_01-2020.xlsx\n",
      "Processing folder: ../../data/raw/traffic_sensors_locations/2021\n",
      "Processed file: pmed_ubicacion_01-2021.xlsx\n",
      "Processing folder: ../../data/raw/traffic_sensors_locations/2022\n",
      "Processed file: pmed_ubicacion_01-2022.xlsx\n",
      "Processing folder: ../../data/raw/traffic_sensors_locations/2023\n",
      "Processed file: pmed_ubicacion_01-2023.xlsx\n",
      "Processing folder: ../../data/raw/traffic_sensors_locations/2024\n",
      "Processed file: pmed_ubicacion_01-2024.xlsx\n",
      "Processing folder: ../../data/raw/traffic_sensors_locations/2025\n",
      "Processed file: pmed_ubicacion_01-2025.xlsx\n"
     ]
    }
   ],
   "source": [
    "import os\n",
    "import pandas as pd\n",
    "\n",
    "# Define the root directory\n",
    "root_dir = '../../data/raw/traffic_sensors_locations'\n",
    "\n",
    "# Create an auxiliary DataFrame to store unique latitud and longitud\n",
    "aux_df = pd.DataFrame(columns=['latitud', 'longitud'])\n",
    "\n",
    "# Iterate through all year folders\n",
    "for year in range(2019, 2026):\n",
    "    year_folder = os.path.join(root_dir, str(year))\n",
    "    \n",
    "    # Check if the year folder exists\n",
    "    if os.path.isdir(year_folder):\n",
    "        print(f\"Processing folder: {year_folder}\")\n",
    "        \n",
    "        # Iterate through files in the year folder\n",
    "        for file_name in os.listdir(year_folder):\n",
    "            if file_name.endswith('.xlsx'):  # Ensure it's a CSV file\n",
    "                \n",
    "                file_path = os.path.join(year_folder, file_name)\n",
    "                \n",
    "                try:\n",
    "                    df = pd.read_excel(file_path)\n",
    "                    \n",
    "                    # Remove duplicated values by looking at both \"latitud\" and \"longitud\"\n",
    "                    df_unique = df[['latitud', 'longitud','id']].drop_duplicates()\n",
    "                    \n",
    "                    # Round both columns to 4 decimal places\n",
    "                    df_unique['latitud'] = df_unique['latitud'].round(4)\n",
    "                    df_unique['longitud'] = df_unique['longitud'].round(4)\n",
    "                    df_unique['id'] = df_unique['id']\n",
    "                    \n",
    "                    # Append to the auxiliary DataFrame\n",
    "                    aux_df = pd.concat([aux_df, df_unique], ignore_index=True)\n",
    "                \n",
    "                    print(f\"Processed file: {file_name}\")\n",
    "                except Exception as e:\n",
    "                    print(f\"Error processing file {file_name}: {e}\")"
   ]
  },
  {
   "cell_type": "code",
   "execution_count": 3,
   "metadata": {},
   "outputs": [],
   "source": [
    "df_unique = aux_df.drop_duplicates(subset=['id'], keep='first')"
   ]
  },
  {
   "cell_type": "code",
   "execution_count": null,
   "metadata": {},
   "outputs": [],
   "source": [
    "df_unique['id'] = df_unique['id'].astype(int)"
   ]
  },
  {
   "cell_type": "code",
   "execution_count": 15,
   "metadata": {},
   "outputs": [],
   "source": [
    "root_dir = '../../data/raw/traffic_sensors_locations'\n",
    "\n",
    "df_unique.to_excel(\"../../data/raw/traffic_sensors_locations/all_sensors.xlsx\", index = False)"
   ]
  },
  {
   "cell_type": "code",
   "execution_count": 14,
   "metadata": {},
   "outputs": [
    {
     "data": {
      "text/html": [
       "<div>\n",
       "<style scoped>\n",
       "    .dataframe tbody tr th:only-of-type {\n",
       "        vertical-align: middle;\n",
       "    }\n",
       "\n",
       "    .dataframe tbody tr th {\n",
       "        vertical-align: top;\n",
       "    }\n",
       "\n",
       "    .dataframe thead th {\n",
       "        text-align: right;\n",
       "    }\n",
       "</style>\n",
       "<table border=\"1\" class=\"dataframe\">\n",
       "  <thead>\n",
       "    <tr style=\"text-align: right;\">\n",
       "      <th></th>\n",
       "      <th>latitud</th>\n",
       "      <th>longitud</th>\n",
       "      <th>id</th>\n",
       "    </tr>\n",
       "  </thead>\n",
       "  <tbody>\n",
       "    <tr>\n",
       "      <th>0</th>\n",
       "      <td>40.4305</td>\n",
       "      <td>-3.6883</td>\n",
       "      <td>3840</td>\n",
       "    </tr>\n",
       "    <tr>\n",
       "      <th>1</th>\n",
       "      <td>40.4305</td>\n",
       "      <td>-3.6873</td>\n",
       "      <td>3841</td>\n",
       "    </tr>\n",
       "    <tr>\n",
       "      <th>2</th>\n",
       "      <td>40.4221</td>\n",
       "      <td>-3.6917</td>\n",
       "      <td>3842</td>\n",
       "    </tr>\n",
       "    <tr>\n",
       "      <th>3</th>\n",
       "      <td>40.4214</td>\n",
       "      <td>-3.6919</td>\n",
       "      <td>3843</td>\n",
       "    </tr>\n",
       "    <tr>\n",
       "      <th>4</th>\n",
       "      <td>40.4338</td>\n",
       "      <td>-3.6885</td>\n",
       "      <td>3844</td>\n",
       "    </tr>\n",
       "    <tr>\n",
       "      <th>...</th>\n",
       "      <td>...</td>\n",
       "      <td>...</td>\n",
       "      <td>...</td>\n",
       "    </tr>\n",
       "    <tr>\n",
       "      <th>31789</th>\n",
       "      <td>40.5090</td>\n",
       "      <td>-3.6953</td>\n",
       "      <td>11353</td>\n",
       "    </tr>\n",
       "    <tr>\n",
       "      <th>31914</th>\n",
       "      <td>40.4297</td>\n",
       "      <td>-3.6098</td>\n",
       "      <td>11302</td>\n",
       "    </tr>\n",
       "    <tr>\n",
       "      <th>31915</th>\n",
       "      <td>40.4259</td>\n",
       "      <td>-3.6116</td>\n",
       "      <td>11303</td>\n",
       "    </tr>\n",
       "    <tr>\n",
       "      <th>31916</th>\n",
       "      <td>40.4231</td>\n",
       "      <td>-3.6114</td>\n",
       "      <td>11304</td>\n",
       "    </tr>\n",
       "    <tr>\n",
       "      <th>31917</th>\n",
       "      <td>40.4242</td>\n",
       "      <td>-3.6073</td>\n",
       "      <td>11307</td>\n",
       "    </tr>\n",
       "  </tbody>\n",
       "</table>\n",
       "<p>5095 rows × 3 columns</p>\n",
       "</div>"
      ],
      "text/plain": [
       "       latitud  longitud     id\n",
       "0      40.4305   -3.6883   3840\n",
       "1      40.4305   -3.6873   3841\n",
       "2      40.4221   -3.6917   3842\n",
       "3      40.4214   -3.6919   3843\n",
       "4      40.4338   -3.6885   3844\n",
       "...        ...       ...    ...\n",
       "31789  40.5090   -3.6953  11353\n",
       "31914  40.4297   -3.6098  11302\n",
       "31915  40.4259   -3.6116  11303\n",
       "31916  40.4231   -3.6114  11304\n",
       "31917  40.4242   -3.6073  11307\n",
       "\n",
       "[5095 rows x 3 columns]"
      ]
     },
     "execution_count": 14,
     "metadata": {},
     "output_type": "execute_result"
    }
   ],
   "source": [
    "df_unique"
   ]
  },
  {
   "cell_type": "code",
   "execution_count": null,
   "metadata": {},
   "outputs": [],
   "source": []
  }
 ],
 "metadata": {
  "kernelspec": {
   "display_name": "master_thesis",
   "language": "python",
   "name": "python3"
  },
  "language_info": {
   "codemirror_mode": {
    "name": "ipython",
    "version": 3
   },
   "file_extension": ".py",
   "mimetype": "text/x-python",
   "name": "python",
   "nbconvert_exporter": "python",
   "pygments_lexer": "ipython3",
   "version": "3.12.8"
  }
 },
 "nbformat": 4,
 "nbformat_minor": 2
}
