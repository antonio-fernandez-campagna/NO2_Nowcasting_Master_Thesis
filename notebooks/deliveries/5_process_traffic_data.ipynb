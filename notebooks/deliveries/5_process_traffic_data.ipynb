{
 "cells": [
  {
   "cell_type": "code",
   "execution_count": 2,
   "metadata": {},
   "outputs": [],
   "source": [
    "import pandas as pd\n",
    "from tqdm import tqdm\n",
    "import os"
   ]
  },
  {
   "cell_type": "code",
   "execution_count": 4,
   "metadata": {},
   "outputs": [],
   "source": [
    "df_mapping_no2_to_traffico = pd.read_csv(\"../data_deliveries/4_no2_to_traffic_sensor_mapping.csv\")"
   ]
  },
  {
   "cell_type": "code",
   "execution_count": 5,
   "metadata": {},
   "outputs": [],
   "source": [
    "def process_traffic_data(df_traffic):\n",
    "    \"\"\"\n",
    "    Función para procesar datos de tráfico a nivel horario a partir de datos cada 15 minutos.\n",
    "    \n",
    "    Se agrupan los datos por sensor y hora, calculando:\n",
    "    - **Intensidad**: Promedio de la intensidad (vehículos/hora).\n",
    "    - **Carga**: Promedio ponderado de la carga, usando la intensidad como peso.\n",
    "    - **Ocupación**: Promedio ponderado de la ocupación, usando la intensidad como peso.\n",
    "    - **Velocidad media (vmed)**: Promedio ponderado de la velocidad media, usando la intensidad como peso.\n",
    "\n",
    "    Parámetros:\n",
    "        df_traffic (pd.DataFrame): DataFrame con datos de tráfico a nivel de 15 minutos.\n",
    "\n",
    "    Retorna:\n",
    "        pd.DataFrame: DataFrame con los datos agregados a nivel horario.\n",
    "    \"\"\"\n",
    "\n",
    "    # Convertir la columna 'fecha' a tipo datetime para manipulación de fechas\n",
    "    df_traffic['fecha'] = pd.to_datetime(df_traffic['fecha'])\n",
    "\n",
    "    # Redondear la fecha a la hora más cercana (para agrupar los datos por hora)\n",
    "    df_traffic['hora'] = df_traffic['fecha'].dt.floor('H')\n",
    "\n",
    "    # Rellenar valores NaN con -1 para evitar problemas en cálculos posteriores\n",
    "    #df_traffic = df_traffic.fillna(-1)\n",
    "\n",
    "    # Función para calcular un promedio ponderado\n",
    "    def weighted_average(group, value_column, weight_column):\n",
    "        \"\"\"\n",
    "        Calcula la media ponderada de una columna usando otra como peso.\n",
    "\n",
    "        Parámetros:\n",
    "            group (pd.DataFrame): Grupo de datos a procesar.\n",
    "            value_column (str): Nombre de la columna cuyo promedio ponderado se calcula.\n",
    "            weight_column (str): Nombre de la columna que se usa como peso.\n",
    "\n",
    "        Retorna:\n",
    "            float: Media ponderada.\n",
    "        \"\"\"\n",
    "        values = group[value_column]\n",
    "        weights = group[weight_column]\n",
    "        \n",
    "        # Si la suma de los pesos es mayor a 0, se calcula la media ponderada, si no, se devuelve 0\n",
    "        weighted_avg = (values * weights).sum() / weights.sum() if weights.sum() > 0 else 0\n",
    "        return weighted_avg\n",
    "\n",
    "    # Agrupar los datos por sensor y hora\n",
    "    grouped = df_traffic.groupby(['id_trafico', 'hora'])\n",
    "\n",
    "    # Lista para almacenar los resultados procesados\n",
    "    result = []\n",
    "\n",
    "    # Procesar cada grupo de sensor y hora\n",
    "    for name, group in tqdm(grouped, desc=\"Processing groups\"):\n",
    "        \"\"\"\n",
    "        Para cada grupo (es decir, cada sensor en cada hora):\n",
    "        - Se calcula la **intensidad** como promedio de la intensidad en los 4 intervalos de 15 minutos.\n",
    "        - Se calcula la **carga** como un promedio ponderado de los valores de carga usando intensidad como peso.\n",
    "        - Se calcula la **ocupación** como un promedio ponderado usando la intensidad como peso.\n",
    "        - Se calcula la **velocidad media (vmed)** como un promedio ponderado usando la intensidad como peso.\n",
    "        \"\"\"\n",
    "\n",
    "        # Intensidad: Como ya está en vehículos/hora, tomamos el promedio, no la suma\n",
    "        intensidad_mean = group['intensidad'].mean()\n",
    "\n",
    "        # Carga: Media ponderada con intensidad como peso\n",
    "        carga_mean = weighted_average(group, 'carga', 'intensidad')\n",
    "\n",
    "        # Ocupación: Media ponderada con intensidad como peso (no se puede sumar porque es un porcentaje)\n",
    "        ocupacion_mean = weighted_average(group, 'ocupacion', 'intensidad')\n",
    "\n",
    "        # Velocidad media: Media ponderada con intensidad como peso\n",
    "        vmed_weighted = weighted_average(group, 'vmed', 'intensidad')\n",
    "\n",
    "        # Agregar los resultados procesados a la lista\n",
    "        result.append({\n",
    "            'id_trafico': name[0],   # ID del sensor de tráfico\n",
    "            'hora': name[1],         # Hora agregada\n",
    "            'intensidad': intensidad_mean,  # Promedio de intensidad (veh/h)\n",
    "            'carga': carga_mean,           # Promedio ponderado de carga\n",
    "            'ocupacion': ocupacion_mean,   # Promedio ponderado de ocupación\n",
    "            'vmed': vmed_weighted          # Promedio ponderado de velocidad media\n",
    "        })\n",
    "\n",
    "    # Convertir la lista de resultados en un DataFrame\n",
    "    df_traffic = pd.DataFrame(result)\n",
    "\n",
    "    return df_traffic  # Retornar el DataFrame procesado\n"
   ]
  },
  {
   "cell_type": "code",
   "execution_count": 6,
   "metadata": {},
   "outputs": [],
   "source": [
    "df_mapping_no2_to_traffico['id_trafico'] = df_mapping_no2_to_traffico['id_trafico'].astype(int).astype(str)\n",
    "filtered_traffic_sensors = list(df_mapping_no2_to_traffico.id_trafico.unique())"
   ]
  },
  {
   "cell_type": "code",
   "execution_count": 7,
   "metadata": {},
   "outputs": [
    {
     "data": {
      "text/plain": [
       "71"
      ]
     },
     "execution_count": 7,
     "metadata": {},
     "output_type": "execute_result"
    }
   ],
   "source": [
    "len(filtered_traffic_sensors)"
   ]
  },
  {
   "cell_type": "code",
   "execution_count": 8,
   "metadata": {},
   "outputs": [
    {
     "name": "stdout",
     "output_type": "stream",
     "text": [
      "Processing folder: ../../data/raw/traffic/2018\n",
      "entra id\n",
      "len df before filtering  11551114\n",
      "Unique traffic sensors before filtering: 3996\n",
      "len df after filtering  158742\n",
      "Unique traffic sensors after filtering: 55\n"
     ]
    },
    {
     "name": "stderr",
     "output_type": "stream",
     "text": [
      "/var/folders/kc/t6c9n8gj7mbblj0w7sy3ykwm0000gn/T/ipykernel_56655/1748940065.py:22: FutureWarning: 'H' is deprecated and will be removed in a future version, please use 'h' instead.\n",
      "  df_traffic['hora'] = df_traffic['fecha'].dt.floor('H')\n",
      "Processing groups: 100%|██████████| 39973/39973 [00:05<00:00, 6778.60it/s]\n"
     ]
    },
    {
     "name": "stdout",
     "output_type": "stream",
     "text": [
      "Processed and saved: ../../data/processed/traffic/2018/01-2018_processed.parquet\n",
      "entra id\n",
      "len df before filtering  11202244\n",
      "Unique traffic sensors before filtering: 4022\n",
      "len df after filtering  155102\n",
      "Unique traffic sensors after filtering: 56\n"
     ]
    },
    {
     "name": "stderr",
     "output_type": "stream",
     "text": [
      "/var/folders/kc/t6c9n8gj7mbblj0w7sy3ykwm0000gn/T/ipykernel_56655/1748940065.py:22: FutureWarning: 'H' is deprecated and will be removed in a future version, please use 'h' instead.\n",
      "  df_traffic['hora'] = df_traffic['fecha'].dt.floor('H')\n",
      "Processing groups: 100%|██████████| 38895/38895 [00:05<00:00, 6800.16it/s]\n"
     ]
    },
    {
     "name": "stdout",
     "output_type": "stream",
     "text": [
      "Processed and saved: ../../data/processed/traffic/2018/06-2018_processed.parquet\n",
      "entra id\n",
      "len df before filtering  11392027\n",
      "Unique traffic sensors before filtering: 4021\n",
      "len df after filtering  159522\n",
      "Unique traffic sensors after filtering: 56\n"
     ]
    },
    {
     "name": "stderr",
     "output_type": "stream",
     "text": [
      "/var/folders/kc/t6c9n8gj7mbblj0w7sy3ykwm0000gn/T/ipykernel_56655/1748940065.py:22: FutureWarning: 'H' is deprecated and will be removed in a future version, please use 'h' instead.\n",
      "  df_traffic['hora'] = df_traffic['fecha'].dt.floor('H')\n",
      "Processing groups: 100%|██████████| 40112/40112 [00:05<00:00, 6695.08it/s]\n"
     ]
    },
    {
     "name": "stdout",
     "output_type": "stream",
     "text": [
      "Processed and saved: ../../data/processed/traffic/2018/07-2018_processed.parquet\n",
      "entra id\n",
      "len df before filtering  10703589\n",
      "Unique traffic sensors before filtering: 3928\n",
      "len df after filtering  138327\n",
      "Unique traffic sensors after filtering: 54\n"
     ]
    },
    {
     "name": "stderr",
     "output_type": "stream",
     "text": [
      "/var/folders/kc/t6c9n8gj7mbblj0w7sy3ykwm0000gn/T/ipykernel_56655/1748940065.py:22: FutureWarning: 'H' is deprecated and will be removed in a future version, please use 'h' instead.\n",
      "  df_traffic['hora'] = df_traffic['fecha'].dt.floor('H')\n",
      "Processing groups: 100%|██████████| 34805/34805 [00:05<00:00, 6083.39it/s]\n"
     ]
    },
    {
     "name": "stdout",
     "output_type": "stream",
     "text": [
      "Processed and saved: ../../data/processed/traffic/2018/11-2018_processed.parquet\n",
      "entra id\n",
      "len df before filtering  11020967\n",
      "Unique traffic sensors before filtering: 3916\n"
     ]
    },
    {
     "name": "stderr",
     "output_type": "stream",
     "text": [
      "/var/folders/kc/t6c9n8gj7mbblj0w7sy3ykwm0000gn/T/ipykernel_56655/1748940065.py:22: FutureWarning: 'H' is deprecated and will be removed in a future version, please use 'h' instead.\n",
      "  df_traffic['hora'] = df_traffic['fecha'].dt.floor('H')\n"
     ]
    },
    {
     "name": "stdout",
     "output_type": "stream",
     "text": [
      "len df after filtering  144829\n",
      "Unique traffic sensors after filtering: 52\n"
     ]
    },
    {
     "name": "stderr",
     "output_type": "stream",
     "text": [
      "Processing groups: 100%|██████████| 36567/36567 [00:06<00:00, 6075.88it/s]\n"
     ]
    },
    {
     "name": "stdout",
     "output_type": "stream",
     "text": [
      "Processed and saved: ../../data/processed/traffic/2018/10-2018_processed.parquet\n",
      "entra id\n",
      "len df before filtering  10339553\n",
      "Unique traffic sensors before filtering: 4001\n",
      "len df after filtering  145154\n",
      "Unique traffic sensors after filtering: 55\n"
     ]
    },
    {
     "name": "stderr",
     "output_type": "stream",
     "text": [
      "/var/folders/kc/t6c9n8gj7mbblj0w7sy3ykwm0000gn/T/ipykernel_56655/1748940065.py:22: FutureWarning: 'H' is deprecated and will be removed in a future version, please use 'h' instead.\n",
      "  df_traffic['hora'] = df_traffic['fecha'].dt.floor('H')\n",
      "Processing groups: 100%|██████████| 36471/36471 [00:05<00:00, 6861.16it/s]\n"
     ]
    },
    {
     "name": "stdout",
     "output_type": "stream",
     "text": [
      "Processed and saved: ../../data/processed/traffic/2018/02-2018_processed.parquet\n",
      "entra id\n",
      "len df before filtering  11432654\n",
      "Unique traffic sensors before filtering: 3997\n",
      "len df after filtering  159406\n",
      "Unique traffic sensors after filtering: 55\n"
     ]
    },
    {
     "name": "stderr",
     "output_type": "stream",
     "text": [
      "/var/folders/kc/t6c9n8gj7mbblj0w7sy3ykwm0000gn/T/ipykernel_56655/1748940065.py:22: FutureWarning: 'H' is deprecated and will be removed in a future version, please use 'h' instead.\n",
      "  df_traffic['hora'] = df_traffic['fecha'].dt.floor('H')\n",
      "Processing groups: 100%|██████████| 40240/40240 [00:05<00:00, 6901.46it/s]\n"
     ]
    },
    {
     "name": "stdout",
     "output_type": "stream",
     "text": [
      "Processed and saved: ../../data/processed/traffic/2018/03-2018_processed.parquet\n",
      "entra id\n",
      "len df before filtering  11298892\n",
      "Unique traffic sensors before filtering: 4014\n",
      "len df after filtering  159766\n",
      "Unique traffic sensors after filtering: 55\n"
     ]
    },
    {
     "name": "stderr",
     "output_type": "stream",
     "text": [
      "/var/folders/kc/t6c9n8gj7mbblj0w7sy3ykwm0000gn/T/ipykernel_56655/1748940065.py:22: FutureWarning: 'H' is deprecated and will be removed in a future version, please use 'h' instead.\n",
      "  df_traffic['hora'] = df_traffic['fecha'].dt.floor('H')\n",
      "Processing groups: 100%|██████████| 40184/40184 [00:05<00:00, 6844.91it/s]\n"
     ]
    },
    {
     "name": "stdout",
     "output_type": "stream",
     "text": [
      "Processed and saved: ../../data/processed/traffic/2018/08-2018_processed.parquet\n",
      "entra id\n",
      "len df before filtering  10668743\n",
      "Unique traffic sensors before filtering: 3910\n"
     ]
    },
    {
     "name": "stderr",
     "output_type": "stream",
     "text": [
      "/var/folders/kc/t6c9n8gj7mbblj0w7sy3ykwm0000gn/T/ipykernel_56655/1748940065.py:22: FutureWarning: 'H' is deprecated and will be removed in a future version, please use 'h' instead.\n",
      "  df_traffic['hora'] = df_traffic['fecha'].dt.floor('H')\n"
     ]
    },
    {
     "name": "stdout",
     "output_type": "stream",
     "text": [
      "len df after filtering  141902\n",
      "Unique traffic sensors after filtering: 52\n"
     ]
    },
    {
     "name": "stderr",
     "output_type": "stream",
     "text": [
      "Processing groups: 100%|██████████| 35822/35822 [00:05<00:00, 6123.38it/s]\n"
     ]
    },
    {
     "name": "stdout",
     "output_type": "stream",
     "text": [
      "Processed and saved: ../../data/processed/traffic/2018/09-2018_processed.parquet\n",
      "entra id\n",
      "len df before filtering  11207552\n",
      "Unique traffic sensors before filtering: 3927\n",
      "len df after filtering  152303\n",
      "Unique traffic sensors after filtering: 54\n"
     ]
    },
    {
     "name": "stderr",
     "output_type": "stream",
     "text": [
      "/var/folders/kc/t6c9n8gj7mbblj0w7sy3ykwm0000gn/T/ipykernel_56655/1748940065.py:22: FutureWarning: 'H' is deprecated and will be removed in a future version, please use 'h' instead.\n",
      "  df_traffic['hora'] = df_traffic['fecha'].dt.floor('H')\n",
      "Processing groups: 100%|██████████| 38299/38299 [00:06<00:00, 6229.21it/s]\n"
     ]
    },
    {
     "name": "stdout",
     "output_type": "stream",
     "text": [
      "Processed and saved: ../../data/processed/traffic/2018/12-2018_processed.parquet\n",
      "entra id\n",
      "len df before filtering  11501592\n",
      "Unique traffic sensors before filtering: 4023\n",
      "len df after filtering  156850\n",
      "Unique traffic sensors after filtering: 55\n"
     ]
    },
    {
     "name": "stderr",
     "output_type": "stream",
     "text": [
      "/var/folders/kc/t6c9n8gj7mbblj0w7sy3ykwm0000gn/T/ipykernel_56655/1748940065.py:22: FutureWarning: 'H' is deprecated and will be removed in a future version, please use 'h' instead.\n",
      "  df_traffic['hora'] = df_traffic['fecha'].dt.floor('H')\n",
      "Processing groups: 100%|██████████| 39368/39368 [00:05<00:00, 6819.03it/s]\n"
     ]
    },
    {
     "name": "stdout",
     "output_type": "stream",
     "text": [
      "Processed and saved: ../../data/processed/traffic/2018/05-2018_processed.parquet\n",
      "entra id\n",
      "len df before filtering  11140226\n",
      "Unique traffic sensors before filtering: 4015\n",
      "len df after filtering  152190\n",
      "Unique traffic sensors after filtering: 55\n"
     ]
    },
    {
     "name": "stderr",
     "output_type": "stream",
     "text": [
      "/var/folders/kc/t6c9n8gj7mbblj0w7sy3ykwm0000gn/T/ipykernel_56655/1748940065.py:22: FutureWarning: 'H' is deprecated and will be removed in a future version, please use 'h' instead.\n",
      "  df_traffic['hora'] = df_traffic['fecha'].dt.floor('H')\n",
      "Processing groups: 100%|██████████| 38213/38213 [00:05<00:00, 6838.44it/s]\n"
     ]
    },
    {
     "name": "stdout",
     "output_type": "stream",
     "text": [
      "Processed and saved: ../../data/processed/traffic/2018/04-2018_processed.parquet\n",
      "Processing folder: ../../data/raw/traffic/2019\n",
      "entra id\n",
      "len df before filtering  11203627\n",
      "Unique traffic sensors before filtering: 3937\n",
      "len df after filtering  157526\n",
      "Unique traffic sensors after filtering: 54\n"
     ]
    },
    {
     "name": "stderr",
     "output_type": "stream",
     "text": [
      "/var/folders/kc/t6c9n8gj7mbblj0w7sy3ykwm0000gn/T/ipykernel_56655/1748940065.py:22: FutureWarning: 'H' is deprecated and will be removed in a future version, please use 'h' instead.\n",
      "  df_traffic['hora'] = df_traffic['fecha'].dt.floor('H')\n",
      "Processing groups: 100%|██████████| 39596/39596 [00:06<00:00, 6254.20it/s]\n"
     ]
    },
    {
     "name": "stdout",
     "output_type": "stream",
     "text": [
      "Processed and saved: ../../data/processed/traffic/2019/01-2019_processed.parquet\n",
      "entra id\n",
      "len df before filtering  11252731\n",
      "Unique traffic sensors before filtering: 3998\n",
      "len df after filtering  152075\n",
      "Unique traffic sensors after filtering: 54\n"
     ]
    },
    {
     "name": "stderr",
     "output_type": "stream",
     "text": [
      "/var/folders/kc/t6c9n8gj7mbblj0w7sy3ykwm0000gn/T/ipykernel_56655/1748940065.py:22: FutureWarning: 'H' is deprecated and will be removed in a future version, please use 'h' instead.\n",
      "  df_traffic['hora'] = df_traffic['fecha'].dt.floor('H')\n",
      "Processing groups: 100%|██████████| 38182/38182 [00:06<00:00, 6236.35it/s]\n"
     ]
    },
    {
     "name": "stdout",
     "output_type": "stream",
     "text": [
      "Processed and saved: ../../data/processed/traffic/2019/07-2019_processed.parquet\n",
      "entra id\n",
      "len df before filtering  10794005\n",
      "Unique traffic sensors before filtering: 3982\n",
      "len df after filtering  145330\n",
      "Unique traffic sensors after filtering: 54\n"
     ]
    },
    {
     "name": "stderr",
     "output_type": "stream",
     "text": [
      "/var/folders/kc/t6c9n8gj7mbblj0w7sy3ykwm0000gn/T/ipykernel_56655/1748940065.py:22: FutureWarning: 'H' is deprecated and will be removed in a future version, please use 'h' instead.\n",
      "  df_traffic['hora'] = df_traffic['fecha'].dt.floor('H')\n",
      "Processing groups: 100%|██████████| 36510/36510 [00:05<00:00, 6142.81it/s]\n"
     ]
    },
    {
     "name": "stdout",
     "output_type": "stream",
     "text": [
      "Processed and saved: ../../data/processed/traffic/2019/06-2019_processed.parquet\n",
      "entra id\n",
      "len df before filtering  11478841\n",
      "Unique traffic sensors before filtering: 4033\n",
      "len df after filtering  155975\n",
      "Unique traffic sensors after filtering: 54\n"
     ]
    },
    {
     "name": "stderr",
     "output_type": "stream",
     "text": [
      "/var/folders/kc/t6c9n8gj7mbblj0w7sy3ykwm0000gn/T/ipykernel_56655/1748940065.py:22: FutureWarning: 'H' is deprecated and will be removed in a future version, please use 'h' instead.\n",
      "  df_traffic['hora'] = df_traffic['fecha'].dt.floor('H')\n",
      "Processing groups: 100%|██████████| 39175/39175 [00:06<00:00, 6295.80it/s]\n"
     ]
    },
    {
     "name": "stdout",
     "output_type": "stream",
     "text": [
      "Processed and saved: ../../data/processed/traffic/2019/10-2019_processed.parquet\n",
      "entra id\n",
      "len df before filtering  11186837\n",
      "Unique traffic sensors before filtering: 4039\n",
      "len df after filtering  151855\n",
      "Unique traffic sensors after filtering: 54\n"
     ]
    },
    {
     "name": "stderr",
     "output_type": "stream",
     "text": [
      "/var/folders/kc/t6c9n8gj7mbblj0w7sy3ykwm0000gn/T/ipykernel_56655/1748940065.py:22: FutureWarning: 'H' is deprecated and will be removed in a future version, please use 'h' instead.\n",
      "  df_traffic['hora'] = df_traffic['fecha'].dt.floor('H')\n",
      "Processing groups: 100%|██████████| 38137/38137 [00:06<00:00, 6291.12it/s]\n"
     ]
    },
    {
     "name": "stdout",
     "output_type": "stream",
     "text": [
      "Processed and saved: ../../data/processed/traffic/2019/11-2019_processed.parquet\n",
      "entra id\n",
      "len df before filtering  11096650\n",
      "Unique traffic sensors before filtering: 3963\n",
      "len df after filtering  146306\n",
      "Unique traffic sensors after filtering: 54\n"
     ]
    },
    {
     "name": "stderr",
     "output_type": "stream",
     "text": [
      "/var/folders/kc/t6c9n8gj7mbblj0w7sy3ykwm0000gn/T/ipykernel_56655/1748940065.py:22: FutureWarning: 'H' is deprecated and will be removed in a future version, please use 'h' instead.\n",
      "  df_traffic['hora'] = df_traffic['fecha'].dt.floor('H')\n",
      "Processing groups: 100%|██████████| 36931/36931 [00:05<00:00, 6308.61it/s]\n"
     ]
    },
    {
     "name": "stdout",
     "output_type": "stream",
     "text": [
      "Processed and saved: ../../data/processed/traffic/2019/03-2019_processed.parquet\n",
      "entra id\n",
      "len df before filtering  10060856\n",
      "Unique traffic sensors before filtering: 3941\n",
      "len df after filtering  138170\n",
      "Unique traffic sensors after filtering: 54\n"
     ]
    },
    {
     "name": "stderr",
     "output_type": "stream",
     "text": [
      "/var/folders/kc/t6c9n8gj7mbblj0w7sy3ykwm0000gn/T/ipykernel_56655/1748940065.py:22: FutureWarning: 'H' is deprecated and will be removed in a future version, please use 'h' instead.\n",
      "  df_traffic['hora'] = df_traffic['fecha'].dt.floor('H')\n",
      "Processing groups: 100%|██████████| 34803/34803 [00:05<00:00, 6327.92it/s]\n"
     ]
    },
    {
     "name": "stdout",
     "output_type": "stream",
     "text": [
      "Processed and saved: ../../data/processed/traffic/2019/02-2019_processed.parquet\n",
      "entra id\n",
      "len df before filtering  11023586\n",
      "Unique traffic sensors before filtering: 4019\n",
      "len df after filtering  146194\n",
      "Unique traffic sensors after filtering: 54\n"
     ]
    },
    {
     "name": "stderr",
     "output_type": "stream",
     "text": [
      "/var/folders/kc/t6c9n8gj7mbblj0w7sy3ykwm0000gn/T/ipykernel_56655/1748940065.py:22: FutureWarning: 'H' is deprecated and will be removed in a future version, please use 'h' instead.\n",
      "  df_traffic['hora'] = df_traffic['fecha'].dt.floor('H')\n",
      "Processing groups: 100%|██████████| 36701/36701 [00:05<00:00, 6270.29it/s]\n"
     ]
    },
    {
     "name": "stdout",
     "output_type": "stream",
     "text": [
      "Processed and saved: ../../data/processed/traffic/2019/09-2019_processed.parquet\n",
      "entra id\n",
      "len df before filtering  11283290\n",
      "Unique traffic sensors before filtering: 3998\n"
     ]
    },
    {
     "name": "stderr",
     "output_type": "stream",
     "text": [
      "/var/folders/kc/t6c9n8gj7mbblj0w7sy3ykwm0000gn/T/ipykernel_56655/1748940065.py:22: FutureWarning: 'H' is deprecated and will be removed in a future version, please use 'h' instead.\n",
      "  df_traffic['hora'] = df_traffic['fecha'].dt.floor('H')\n"
     ]
    },
    {
     "name": "stdout",
     "output_type": "stream",
     "text": [
      "len df after filtering  150403\n",
      "Unique traffic sensors after filtering: 54\n"
     ]
    },
    {
     "name": "stderr",
     "output_type": "stream",
     "text": [
      "Processing groups: 100%|██████████| 37917/37917 [00:06<00:00, 6293.45it/s]\n"
     ]
    },
    {
     "name": "stdout",
     "output_type": "stream",
     "text": [
      "Processed and saved: ../../data/processed/traffic/2019/08-2019_processed.parquet\n",
      "entra id\n",
      "len df before filtering  11518048\n",
      "Unique traffic sensors before filtering: 4056\n"
     ]
    },
    {
     "name": "stderr",
     "output_type": "stream",
     "text": [
      "/var/folders/kc/t6c9n8gj7mbblj0w7sy3ykwm0000gn/T/ipykernel_56655/1748940065.py:22: FutureWarning: 'H' is deprecated and will be removed in a future version, please use 'h' instead.\n",
      "  df_traffic['hora'] = df_traffic['fecha'].dt.floor('H')\n"
     ]
    },
    {
     "name": "stdout",
     "output_type": "stream",
     "text": [
      "len df after filtering  153648\n",
      "Unique traffic sensors after filtering: 54\n"
     ]
    },
    {
     "name": "stderr",
     "output_type": "stream",
     "text": [
      "Processing groups: 100%|██████████| 38639/38639 [00:06<00:00, 6319.52it/s]\n"
     ]
    },
    {
     "name": "stdout",
     "output_type": "stream",
     "text": [
      "Processed and saved: ../../data/processed/traffic/2019/12-2019_processed.parquet\n",
      "entra id\n",
      "len df before filtering  10542041\n",
      "Unique traffic sensors before filtering: 3950\n"
     ]
    },
    {
     "name": "stderr",
     "output_type": "stream",
     "text": [
      "/var/folders/kc/t6c9n8gj7mbblj0w7sy3ykwm0000gn/T/ipykernel_56655/1748940065.py:22: FutureWarning: 'H' is deprecated and will be removed in a future version, please use 'h' instead.\n",
      "  df_traffic['hora'] = df_traffic['fecha'].dt.floor('H')\n"
     ]
    },
    {
     "name": "stdout",
     "output_type": "stream",
     "text": [
      "len df after filtering  136575\n",
      "Unique traffic sensors after filtering: 54\n"
     ]
    },
    {
     "name": "stderr",
     "output_type": "stream",
     "text": [
      "Processing groups: 100%|██████████| 34407/34407 [00:05<00:00, 6340.02it/s]\n"
     ]
    },
    {
     "name": "stdout",
     "output_type": "stream",
     "text": [
      "Processed and saved: ../../data/processed/traffic/2019/04-2019_processed.parquet\n",
      "entra id\n",
      "len df before filtering  11060255\n",
      "Unique traffic sensors before filtering: 3968\n"
     ]
    },
    {
     "name": "stderr",
     "output_type": "stream",
     "text": [
      "/var/folders/kc/t6c9n8gj7mbblj0w7sy3ykwm0000gn/T/ipykernel_56655/1748940065.py:22: FutureWarning: 'H' is deprecated and will be removed in a future version, please use 'h' instead.\n",
      "  df_traffic['hora'] = df_traffic['fecha'].dt.floor('H')\n"
     ]
    },
    {
     "name": "stdout",
     "output_type": "stream",
     "text": [
      "len df after filtering  144279\n",
      "Unique traffic sensors after filtering: 54\n"
     ]
    },
    {
     "name": "stderr",
     "output_type": "stream",
     "text": [
      "Processing groups: 100%|██████████| 36285/36285 [00:05<00:00, 6359.55it/s]\n"
     ]
    },
    {
     "name": "stdout",
     "output_type": "stream",
     "text": [
      "Processed and saved: ../../data/processed/traffic/2019/05-2019_processed.parquet\n",
      "Processing folder: ../../data/raw/traffic/2020\n",
      "entra id\n",
      "len df before filtering  11577408\n",
      "Unique traffic sensors before filtering: 4058\n",
      "len df after filtering  149825\n",
      "Unique traffic sensors after filtering: 54\n"
     ]
    },
    {
     "name": "stderr",
     "output_type": "stream",
     "text": [
      "/var/folders/kc/t6c9n8gj7mbblj0w7sy3ykwm0000gn/T/ipykernel_56655/1748940065.py:22: FutureWarning: 'H' is deprecated and will be removed in a future version, please use 'h' instead.\n",
      "  df_traffic['hora'] = df_traffic['fecha'].dt.floor('H')\n",
      "Processing groups: 100%|██████████| 37937/37937 [00:05<00:00, 6358.98it/s]\n"
     ]
    },
    {
     "name": "stdout",
     "output_type": "stream",
     "text": [
      "Processed and saved: ../../data/processed/traffic/2020/01-2020_processed.parquet\n",
      "entra id\n",
      "len df before filtering  11401995\n",
      "Unique traffic sensors before filtering: 4168\n",
      "len df after filtering  144868\n",
      "Unique traffic sensors after filtering: 55\n"
     ]
    },
    {
     "name": "stderr",
     "output_type": "stream",
     "text": [
      "/var/folders/kc/t6c9n8gj7mbblj0w7sy3ykwm0000gn/T/ipykernel_56655/1748940065.py:22: FutureWarning: 'H' is deprecated and will be removed in a future version, please use 'h' instead.\n",
      "  df_traffic['hora'] = df_traffic['fecha'].dt.floor('H')\n",
      "Processing groups: 100%|██████████| 37146/37146 [00:05<00:00, 6479.84it/s]\n"
     ]
    },
    {
     "name": "stdout",
     "output_type": "stream",
     "text": [
      "Processed and saved: ../../data/processed/traffic/2020/10-2020_processed.parquet\n",
      "entra id\n",
      "len df before filtering  11304137\n",
      "Unique traffic sensors before filtering: 4160\n"
     ]
    },
    {
     "name": "stderr",
     "output_type": "stream",
     "text": [
      "/var/folders/kc/t6c9n8gj7mbblj0w7sy3ykwm0000gn/T/ipykernel_56655/1748940065.py:22: FutureWarning: 'H' is deprecated and will be removed in a future version, please use 'h' instead.\n",
      "  df_traffic['hora'] = df_traffic['fecha'].dt.floor('H')\n"
     ]
    },
    {
     "name": "stdout",
     "output_type": "stream",
     "text": [
      "len df after filtering  144334\n",
      "Unique traffic sensors after filtering: 53\n"
     ]
    },
    {
     "name": "stderr",
     "output_type": "stream",
     "text": [
      "Processing groups: 100%|██████████| 36843/36843 [00:05<00:00, 6353.36it/s]\n"
     ]
    },
    {
     "name": "stdout",
     "output_type": "stream",
     "text": [
      "Processed and saved: ../../data/processed/traffic/2020/11-2020_processed.parquet\n",
      "entra id\n",
      "len df before filtering  10915562\n",
      "Unique traffic sensors before filtering: 3966\n",
      "len df after filtering  147082\n",
      "Unique traffic sensors after filtering: 54\n"
     ]
    },
    {
     "name": "stderr",
     "output_type": "stream",
     "text": [
      "/var/folders/kc/t6c9n8gj7mbblj0w7sy3ykwm0000gn/T/ipykernel_56655/1748940065.py:22: FutureWarning: 'H' is deprecated and will be removed in a future version, please use 'h' instead.\n",
      "  df_traffic['hora'] = df_traffic['fecha'].dt.floor('H')\n",
      "Processing groups: 100%|██████████| 35837/35837 [00:05<00:00, 6922.86it/s]\n"
     ]
    },
    {
     "name": "stdout",
     "output_type": "stream",
     "text": [
      "Processed and saved: ../../data/processed/traffic/2020/07-2020_processed.parquet\n",
      "entra id\n",
      "len df before filtering  10552512\n",
      "Unique traffic sensors before filtering: 3970\n"
     ]
    },
    {
     "name": "stderr",
     "output_type": "stream",
     "text": [
      "/var/folders/kc/t6c9n8gj7mbblj0w7sy3ykwm0000gn/T/ipykernel_56655/1748940065.py:22: FutureWarning: 'H' is deprecated and will be removed in a future version, please use 'h' instead.\n",
      "  df_traffic['hora'] = df_traffic['fecha'].dt.floor('H')\n"
     ]
    },
    {
     "name": "stdout",
     "output_type": "stream",
     "text": [
      "len df after filtering  140570\n",
      "Unique traffic sensors after filtering: 54\n"
     ]
    },
    {
     "name": "stderr",
     "output_type": "stream",
     "text": [
      "Processing groups: 100%|██████████| 34182/34182 [00:04<00:00, 6945.56it/s]\n"
     ]
    },
    {
     "name": "stdout",
     "output_type": "stream",
     "text": [
      "Processed and saved: ../../data/processed/traffic/2020/06-2020_processed.parquet\n",
      "entra id\n",
      "len df before filtering  11050575\n",
      "Unique traffic sensors before filtering: 4150\n",
      "len df after filtering  138894\n",
      "Unique traffic sensors after filtering: 54\n"
     ]
    },
    {
     "name": "stderr",
     "output_type": "stream",
     "text": [
      "/var/folders/kc/t6c9n8gj7mbblj0w7sy3ykwm0000gn/T/ipykernel_56655/1748940065.py:22: FutureWarning: 'H' is deprecated and will be removed in a future version, please use 'h' instead.\n",
      "  df_traffic['hora'] = df_traffic['fecha'].dt.floor('H')\n",
      "Processing groups: 100%|██████████| 34736/34736 [00:05<00:00, 6542.66it/s]\n"
     ]
    },
    {
     "name": "stdout",
     "output_type": "stream",
     "text": [
      "Processed and saved: ../../data/processed/traffic/2020/09-2020_processed.parquet\n",
      "entra id\n",
      "len df before filtering  10776844\n",
      "Unique traffic sensors before filtering: 3965\n",
      "len df after filtering  143775\n",
      "Unique traffic sensors after filtering: 54\n"
     ]
    },
    {
     "name": "stderr",
     "output_type": "stream",
     "text": [
      "/var/folders/kc/t6c9n8gj7mbblj0w7sy3ykwm0000gn/T/ipykernel_56655/1748940065.py:22: FutureWarning: 'H' is deprecated and will be removed in a future version, please use 'h' instead.\n",
      "  df_traffic['hora'] = df_traffic['fecha'].dt.floor('H')\n",
      "Processing groups: 100%|██████████| 35300/35300 [00:04<00:00, 7146.05it/s]\n"
     ]
    },
    {
     "name": "stdout",
     "output_type": "stream",
     "text": [
      "Processed and saved: ../../data/processed/traffic/2020/08-2020_processed.parquet\n",
      "entra id\n",
      "len df before filtering  11240571\n",
      "Unique traffic sensors before filtering: 4068\n",
      "len df after filtering  146203\n",
      "Unique traffic sensors after filtering: 52\n"
     ]
    },
    {
     "name": "stderr",
     "output_type": "stream",
     "text": [
      "/var/folders/kc/t6c9n8gj7mbblj0w7sy3ykwm0000gn/T/ipykernel_56655/1748940065.py:22: FutureWarning: 'H' is deprecated and will be removed in a future version, please use 'h' instead.\n",
      "  df_traffic['hora'] = df_traffic['fecha'].dt.floor('H')\n",
      "Processing groups: 100%|██████████| 37283/37283 [00:05<00:00, 6412.72it/s]\n"
     ]
    },
    {
     "name": "stdout",
     "output_type": "stream",
     "text": [
      "Processed and saved: ../../data/processed/traffic/2020/03-2020_processed.parquet\n",
      "entra id\n",
      "len df before filtering  10926382\n",
      "Unique traffic sensors before filtering: 4071\n",
      "len df after filtering  140956\n",
      "Unique traffic sensors after filtering: 54\n"
     ]
    },
    {
     "name": "stderr",
     "output_type": "stream",
     "text": [
      "/var/folders/kc/t6c9n8gj7mbblj0w7sy3ykwm0000gn/T/ipykernel_56655/1748940065.py:22: FutureWarning: 'H' is deprecated and will be removed in a future version, please use 'h' instead.\n",
      "  df_traffic['hora'] = df_traffic['fecha'].dt.floor('H')\n",
      "Processing groups: 100%|██████████| 35706/35706 [00:05<00:00, 6372.98it/s]\n"
     ]
    },
    {
     "name": "stdout",
     "output_type": "stream",
     "text": [
      "Processed and saved: ../../data/processed/traffic/2020/02-2020_processed.parquet\n",
      "entra id\n",
      "len df before filtering  10603087\n",
      "Unique traffic sensors before filtering: 4064\n",
      "len df after filtering  136816\n",
      "Unique traffic sensors after filtering: 53\n"
     ]
    },
    {
     "name": "stderr",
     "output_type": "stream",
     "text": [
      "/var/folders/kc/t6c9n8gj7mbblj0w7sy3ykwm0000gn/T/ipykernel_56655/1748940065.py:22: FutureWarning: 'H' is deprecated and will be removed in a future version, please use 'h' instead.\n",
      "  df_traffic['hora'] = df_traffic['fecha'].dt.floor('H')\n",
      "Processing groups: 100%|██████████| 35347/35347 [00:05<00:00, 6385.17it/s]\n"
     ]
    },
    {
     "name": "stdout",
     "output_type": "stream",
     "text": [
      "Processed and saved: ../../data/processed/traffic/2020/04-2020_processed.parquet\n",
      "entra id\n",
      "len df before filtering  10905113\n",
      "Unique traffic sensors before filtering: 4065\n",
      "len df after filtering  139720\n",
      "Unique traffic sensors after filtering: 53\n"
     ]
    },
    {
     "name": "stderr",
     "output_type": "stream",
     "text": [
      "/var/folders/kc/t6c9n8gj7mbblj0w7sy3ykwm0000gn/T/ipykernel_56655/1748940065.py:22: FutureWarning: 'H' is deprecated and will be removed in a future version, please use 'h' instead.\n",
      "  df_traffic['hora'] = df_traffic['fecha'].dt.floor('H')\n",
      "Processing groups: 100%|██████████| 35232/35232 [00:05<00:00, 6182.69it/s]\n"
     ]
    },
    {
     "name": "stdout",
     "output_type": "stream",
     "text": [
      "Processed and saved: ../../data/processed/traffic/2020/05-2020_processed.parquet\n",
      "entra id\n",
      "len df before filtering  11101234\n",
      "Unique traffic sensors before filtering: 4173\n",
      "len df after filtering  141860\n",
      "Unique traffic sensors after filtering: 54\n"
     ]
    },
    {
     "name": "stderr",
     "output_type": "stream",
     "text": [
      "/var/folders/kc/t6c9n8gj7mbblj0w7sy3ykwm0000gn/T/ipykernel_56655/1748940065.py:22: FutureWarning: 'H' is deprecated and will be removed in a future version, please use 'h' instead.\n",
      "  df_traffic['hora'] = df_traffic['fecha'].dt.floor('H')\n",
      "Processing groups: 100%|██████████| 36788/36788 [00:05<00:00, 6382.52it/s]\n"
     ]
    },
    {
     "name": "stdout",
     "output_type": "stream",
     "text": [
      "Processed and saved: ../../data/processed/traffic/2020/12-2020_processed.parquet\n",
      "Processing folder: ../../data/raw/traffic/2021\n",
      "entra id\n",
      "len df before filtering  10422264\n",
      "Unique traffic sensors before filtering: 4173\n"
     ]
    },
    {
     "name": "stderr",
     "output_type": "stream",
     "text": [
      "/var/folders/kc/t6c9n8gj7mbblj0w7sy3ykwm0000gn/T/ipykernel_56655/1748940065.py:22: FutureWarning: 'H' is deprecated and will be removed in a future version, please use 'h' instead.\n",
      "  df_traffic['hora'] = df_traffic['fecha'].dt.floor('H')\n"
     ]
    },
    {
     "name": "stdout",
     "output_type": "stream",
     "text": [
      "len df after filtering  129733\n",
      "Unique traffic sensors after filtering: 53\n"
     ]
    },
    {
     "name": "stderr",
     "output_type": "stream",
     "text": [
      "Processing groups: 100%|██████████| 34004/34004 [00:05<00:00, 6306.93it/s]\n"
     ]
    },
    {
     "name": "stdout",
     "output_type": "stream",
     "text": [
      "Processed and saved: ../../data/processed/traffic/2021/01-2021_processed.parquet\n",
      "entra id\n",
      "len df before filtering  11753247\n",
      "Unique traffic sensors before filtering: 4351\n",
      "len df after filtering  160776\n",
      "Unique traffic sensors after filtering: 61\n"
     ]
    },
    {
     "name": "stderr",
     "output_type": "stream",
     "text": [
      "/var/folders/kc/t6c9n8gj7mbblj0w7sy3ykwm0000gn/T/ipykernel_56655/1748940065.py:22: FutureWarning: 'H' is deprecated and will be removed in a future version, please use 'h' instead.\n",
      "  df_traffic['hora'] = df_traffic['fecha'].dt.floor('H')\n",
      "Processing groups: 100%|██████████| 40230/40230 [00:06<00:00, 6314.61it/s]\n"
     ]
    },
    {
     "name": "stdout",
     "output_type": "stream",
     "text": [
      "Processed and saved: ../../data/processed/traffic/2021/11-2021_processed.parquet\n",
      "entra id\n",
      "len df before filtering  12036913\n",
      "Unique traffic sensors before filtering: 4314\n",
      "len df after filtering  163628\n",
      "Unique traffic sensors after filtering: 57\n"
     ]
    },
    {
     "name": "stderr",
     "output_type": "stream",
     "text": [
      "/var/folders/kc/t6c9n8gj7mbblj0w7sy3ykwm0000gn/T/ipykernel_56655/1748940065.py:22: FutureWarning: 'H' is deprecated and will be removed in a future version, please use 'h' instead.\n",
      "  df_traffic['hora'] = df_traffic['fecha'].dt.floor('H')\n",
      "Processing groups: 100%|██████████| 41319/41319 [00:06<00:00, 6272.17it/s]\n"
     ]
    },
    {
     "name": "stdout",
     "output_type": "stream",
     "text": [
      "Processed and saved: ../../data/processed/traffic/2021/10-2021_processed.parquet\n",
      "entra id\n",
      "len df before filtering  11577338\n",
      "Unique traffic sensors before filtering: 4273\n"
     ]
    },
    {
     "name": "stderr",
     "output_type": "stream",
     "text": [
      "/var/folders/kc/t6c9n8gj7mbblj0w7sy3ykwm0000gn/T/ipykernel_56655/1748940065.py:22: FutureWarning: 'H' is deprecated and will be removed in a future version, please use 'h' instead.\n",
      "  df_traffic['hora'] = df_traffic['fecha'].dt.floor('H')\n"
     ]
    },
    {
     "name": "stdout",
     "output_type": "stream",
     "text": [
      "len df after filtering  139670\n",
      "Unique traffic sensors after filtering: 56\n"
     ]
    },
    {
     "name": "stderr",
     "output_type": "stream",
     "text": [
      "Processing groups: 100%|██████████| 35440/35440 [00:05<00:00, 6346.55it/s]\n"
     ]
    },
    {
     "name": "stdout",
     "output_type": "stream",
     "text": [
      "Processed and saved: ../../data/processed/traffic/2021/06-2021_processed.parquet\n",
      "entra id\n",
      "len df before filtering  12132019\n",
      "Unique traffic sensors before filtering: 4304\n"
     ]
    },
    {
     "name": "stderr",
     "output_type": "stream",
     "text": [
      "/var/folders/kc/t6c9n8gj7mbblj0w7sy3ykwm0000gn/T/ipykernel_56655/1748940065.py:22: FutureWarning: 'H' is deprecated and will be removed in a future version, please use 'h' instead.\n",
      "  df_traffic['hora'] = df_traffic['fecha'].dt.floor('H')\n"
     ]
    },
    {
     "name": "stdout",
     "output_type": "stream",
     "text": [
      "len df after filtering  153882\n",
      "Unique traffic sensors after filtering: 54\n"
     ]
    },
    {
     "name": "stderr",
     "output_type": "stream",
     "text": [
      "Processing groups: 100%|██████████| 39025/39025 [00:06<00:00, 6306.51it/s]\n"
     ]
    },
    {
     "name": "stdout",
     "output_type": "stream",
     "text": [
      "Processed and saved: ../../data/processed/traffic/2021/07-2021_processed.parquet\n",
      "entra id\n",
      "len df before filtering  11992900\n",
      "Unique traffic sensors before filtering: 4301\n",
      "len df after filtering  154380\n",
      "Unique traffic sensors after filtering: 54\n"
     ]
    },
    {
     "name": "stderr",
     "output_type": "stream",
     "text": [
      "/var/folders/kc/t6c9n8gj7mbblj0w7sy3ykwm0000gn/T/ipykernel_56655/1748940065.py:22: FutureWarning: 'H' is deprecated and will be removed in a future version, please use 'h' instead.\n",
      "  df_traffic['hora'] = df_traffic['fecha'].dt.floor('H')\n",
      "Processing groups: 100%|██████████| 39336/39336 [00:06<00:00, 6254.64it/s]\n"
     ]
    },
    {
     "name": "stdout",
     "output_type": "stream",
     "text": [
      "Processed and saved: ../../data/processed/traffic/2021/08-2021_processed.parquet\n",
      "entra id\n",
      "len df before filtering  11697249\n",
      "Unique traffic sensors before filtering: 4318\n",
      "len df after filtering  151082\n",
      "Unique traffic sensors after filtering: 58\n"
     ]
    },
    {
     "name": "stderr",
     "output_type": "stream",
     "text": [
      "/var/folders/kc/t6c9n8gj7mbblj0w7sy3ykwm0000gn/T/ipykernel_56655/1748940065.py:22: FutureWarning: 'H' is deprecated and will be removed in a future version, please use 'h' instead.\n",
      "  df_traffic['hora'] = df_traffic['fecha'].dt.floor('H')\n",
      "Processing groups: 100%|██████████| 38297/38297 [00:06<00:00, 6293.55it/s]\n"
     ]
    },
    {
     "name": "stdout",
     "output_type": "stream",
     "text": [
      "Processed and saved: ../../data/processed/traffic/2021/09-2021_processed.parquet\n",
      "entra id\n",
      "len df before filtering  10477478\n",
      "Unique traffic sensors before filtering: 4181\n"
     ]
    },
    {
     "name": "stderr",
     "output_type": "stream",
     "text": [
      "/var/folders/kc/t6c9n8gj7mbblj0w7sy3ykwm0000gn/T/ipykernel_56655/1748940065.py:22: FutureWarning: 'H' is deprecated and will be removed in a future version, please use 'h' instead.\n",
      "  df_traffic['hora'] = df_traffic['fecha'].dt.floor('H')\n"
     ]
    },
    {
     "name": "stdout",
     "output_type": "stream",
     "text": [
      "len df after filtering  131654\n",
      "Unique traffic sensors after filtering: 54\n"
     ]
    },
    {
     "name": "stderr",
     "output_type": "stream",
     "text": [
      "Processing groups: 100%|██████████| 33411/33411 [00:05<00:00, 6301.07it/s]\n"
     ]
    },
    {
     "name": "stdout",
     "output_type": "stream",
     "text": [
      "Processed and saved: ../../data/processed/traffic/2021/02-2021_processed.parquet\n",
      "entra id\n",
      "len df before filtering  11891658\n",
      "Unique traffic sensors before filtering: 4255\n",
      "len df after filtering  144049\n",
      "Unique traffic sensors after filtering: 52\n"
     ]
    },
    {
     "name": "stderr",
     "output_type": "stream",
     "text": [
      "/var/folders/kc/t6c9n8gj7mbblj0w7sy3ykwm0000gn/T/ipykernel_56655/1748940065.py:22: FutureWarning: 'H' is deprecated and will be removed in a future version, please use 'h' instead.\n",
      "  df_traffic['hora'] = df_traffic['fecha'].dt.floor('H')\n",
      "Processing groups: 100%|██████████| 36632/36632 [00:05<00:00, 6334.54it/s]\n"
     ]
    },
    {
     "name": "stdout",
     "output_type": "stream",
     "text": [
      "Processed and saved: ../../data/processed/traffic/2021/03-2021_processed.parquet\n",
      "entra id\n",
      "len df before filtering  11937669\n",
      "Unique traffic sensors before filtering: 4259\n"
     ]
    },
    {
     "name": "stderr",
     "output_type": "stream",
     "text": [
      "/var/folders/kc/t6c9n8gj7mbblj0w7sy3ykwm0000gn/T/ipykernel_56655/1748940065.py:22: FutureWarning: 'H' is deprecated and will be removed in a future version, please use 'h' instead.\n",
      "  df_traffic['hora'] = df_traffic['fecha'].dt.floor('H')\n"
     ]
    },
    {
     "name": "stdout",
     "output_type": "stream",
     "text": [
      "len df after filtering  148967\n",
      "Unique traffic sensors after filtering: 55\n"
     ]
    },
    {
     "name": "stderr",
     "output_type": "stream",
     "text": [
      "Processing groups: 100%|██████████| 37840/37840 [00:06<00:00, 6244.60it/s]\n"
     ]
    },
    {
     "name": "stdout",
     "output_type": "stream",
     "text": [
      "Processed and saved: ../../data/processed/traffic/2021/05-2021_processed.parquet\n",
      "entra id\n",
      "len df before filtering  11495366\n",
      "Unique traffic sensors before filtering: 4238\n"
     ]
    },
    {
     "name": "stderr",
     "output_type": "stream",
     "text": [
      "/var/folders/kc/t6c9n8gj7mbblj0w7sy3ykwm0000gn/T/ipykernel_56655/1748940065.py:22: FutureWarning: 'H' is deprecated and will be removed in a future version, please use 'h' instead.\n",
      "  df_traffic['hora'] = df_traffic['fecha'].dt.floor('H')\n"
     ]
    },
    {
     "name": "stdout",
     "output_type": "stream",
     "text": [
      "len df after filtering  138802\n",
      "Unique traffic sensors after filtering: 51\n"
     ]
    },
    {
     "name": "stderr",
     "output_type": "stream",
     "text": [
      "Processing groups: 100%|██████████| 35266/35266 [00:05<00:00, 6340.00it/s]\n"
     ]
    },
    {
     "name": "stdout",
     "output_type": "stream",
     "text": [
      "Processed and saved: ../../data/processed/traffic/2021/04-2021_processed.parquet\n",
      "entra id\n",
      "len df before filtering  12309478\n",
      "Unique traffic sensors before filtering: 4372\n",
      "len df after filtering  178047\n",
      "Unique traffic sensors after filtering: 61\n"
     ]
    },
    {
     "name": "stderr",
     "output_type": "stream",
     "text": [
      "/var/folders/kc/t6c9n8gj7mbblj0w7sy3ykwm0000gn/T/ipykernel_56655/1748940065.py:22: FutureWarning: 'H' is deprecated and will be removed in a future version, please use 'h' instead.\n",
      "  df_traffic['hora'] = df_traffic['fecha'].dt.floor('H')\n",
      "Processing groups: 100%|██████████| 44484/44484 [00:07<00:00, 6271.33it/s]\n"
     ]
    },
    {
     "name": "stdout",
     "output_type": "stream",
     "text": [
      "Processed and saved: ../../data/processed/traffic/2021/12-2021_processed.parquet\n",
      "Processing folder: ../../data/raw/traffic/2022\n",
      "entra id\n",
      "len df before filtering  12429813\n",
      "Unique traffic sensors before filtering: 4374\n",
      "len df after filtering  177951\n",
      "Unique traffic sensors after filtering: 62\n"
     ]
    },
    {
     "name": "stderr",
     "output_type": "stream",
     "text": [
      "/var/folders/kc/t6c9n8gj7mbblj0w7sy3ykwm0000gn/T/ipykernel_56655/1748940065.py:22: FutureWarning: 'H' is deprecated and will be removed in a future version, please use 'h' instead.\n",
      "  df_traffic['hora'] = df_traffic['fecha'].dt.floor('H')\n",
      "Processing groups: 100%|██████████| 44145/44145 [00:07<00:00, 6279.32it/s]\n"
     ]
    },
    {
     "name": "stdout",
     "output_type": "stream",
     "text": [
      "Processed and saved: ../../data/processed/traffic/2022/01-2022_processed.parquet\n",
      "entra id\n",
      "len df before filtering  12511377\n",
      "Unique traffic sensors before filtering: 4471\n",
      "len df after filtering  189002\n",
      "Unique traffic sensors after filtering: 65\n"
     ]
    },
    {
     "name": "stderr",
     "output_type": "stream",
     "text": [
      "/var/folders/kc/t6c9n8gj7mbblj0w7sy3ykwm0000gn/T/ipykernel_56655/1748940065.py:22: FutureWarning: 'H' is deprecated and will be removed in a future version, please use 'h' instead.\n",
      "  df_traffic['hora'] = df_traffic['fecha'].dt.floor('H')\n",
      "Processing groups: 100%|██████████| 47556/47556 [00:07<00:00, 6251.10it/s]\n"
     ]
    },
    {
     "name": "stdout",
     "output_type": "stream",
     "text": [
      "Processed and saved: ../../data/processed/traffic/2022/10-2022_processed.parquet\n",
      "entra id\n",
      "len df before filtering  12096282\n",
      "Unique traffic sensors before filtering: 4488\n",
      "len df after filtering  185931\n",
      "Unique traffic sensors after filtering: 65\n"
     ]
    },
    {
     "name": "stderr",
     "output_type": "stream",
     "text": [
      "/var/folders/kc/t6c9n8gj7mbblj0w7sy3ykwm0000gn/T/ipykernel_56655/1748940065.py:22: FutureWarning: 'H' is deprecated and will be removed in a future version, please use 'h' instead.\n",
      "  df_traffic['hora'] = df_traffic['fecha'].dt.floor('H')\n",
      "Processing groups: 100%|██████████| 46690/46690 [00:07<00:00, 6322.05it/s]\n"
     ]
    },
    {
     "name": "stdout",
     "output_type": "stream",
     "text": [
      "Processed and saved: ../../data/processed/traffic/2022/11-2022_processed.parquet\n",
      "entra id\n",
      "len df before filtering  11796277\n",
      "Unique traffic sensors before filtering: 4132\n",
      "len df after filtering  173852\n",
      "Unique traffic sensors after filtering: 61\n"
     ]
    },
    {
     "name": "stderr",
     "output_type": "stream",
     "text": [
      "/var/folders/kc/t6c9n8gj7mbblj0w7sy3ykwm0000gn/T/ipykernel_56655/1748940065.py:22: FutureWarning: 'H' is deprecated and will be removed in a future version, please use 'h' instead.\n",
      "  df_traffic['hora'] = df_traffic['fecha'].dt.floor('H')\n",
      "Processing groups: 100%|██████████| 44018/44018 [00:06<00:00, 6521.45it/s]\n"
     ]
    },
    {
     "name": "stdout",
     "output_type": "stream",
     "text": [
      "Processed and saved: ../../data/processed/traffic/2022/07-2022_processed.parquet\n",
      "entra id\n",
      "len df before filtering  11399709\n",
      "Unique traffic sensors before filtering: 4129\n",
      "len df after filtering  167465\n",
      "Unique traffic sensors after filtering: 60\n"
     ]
    },
    {
     "name": "stderr",
     "output_type": "stream",
     "text": [
      "/var/folders/kc/t6c9n8gj7mbblj0w7sy3ykwm0000gn/T/ipykernel_56655/1748940065.py:22: FutureWarning: 'H' is deprecated and will be removed in a future version, please use 'h' instead.\n",
      "  df_traffic['hora'] = df_traffic['fecha'].dt.floor('H')\n",
      "Processing groups: 100%|██████████| 42196/42196 [00:06<00:00, 6576.34it/s]\n"
     ]
    },
    {
     "name": "stdout",
     "output_type": "stream",
     "text": [
      "Processed and saved: ../../data/processed/traffic/2022/06-2022_processed.parquet\n",
      "entra id\n",
      "len df before filtering  11796900\n",
      "Unique traffic sensors before filtering: 4114\n",
      "len df after filtering  175358\n",
      "Unique traffic sensors after filtering: 60\n"
     ]
    },
    {
     "name": "stderr",
     "output_type": "stream",
     "text": [
      "/var/folders/kc/t6c9n8gj7mbblj0w7sy3ykwm0000gn/T/ipykernel_56655/1748940065.py:22: FutureWarning: 'H' is deprecated and will be removed in a future version, please use 'h' instead.\n",
      "  df_traffic['hora'] = df_traffic['fecha'].dt.floor('H')\n",
      "Processing groups: 100%|██████████| 44372/44372 [00:06<00:00, 6504.00it/s]\n"
     ]
    },
    {
     "name": "stdout",
     "output_type": "stream",
     "text": [
      "Processed and saved: ../../data/processed/traffic/2022/03-2022_processed.parquet\n",
      "entra id\n",
      "len df before filtering  10794781\n",
      "Unique traffic sensors before filtering: 4394\n",
      "len df after filtering  160010\n",
      "Unique traffic sensors after filtering: 62\n"
     ]
    },
    {
     "name": "stderr",
     "output_type": "stream",
     "text": [
      "/var/folders/kc/t6c9n8gj7mbblj0w7sy3ykwm0000gn/T/ipykernel_56655/1748940065.py:22: FutureWarning: 'H' is deprecated and will be removed in a future version, please use 'h' instead.\n",
      "  df_traffic['hora'] = df_traffic['fecha'].dt.floor('H')\n",
      "Processing groups: 100%|██████████| 40278/40278 [00:06<00:00, 6317.39it/s]\n"
     ]
    },
    {
     "name": "stdout",
     "output_type": "stream",
     "text": [
      "Processed and saved: ../../data/processed/traffic/2022/02-2022_processed.parquet\n",
      "entra id\n",
      "len df before filtering  12168291\n",
      "Unique traffic sensors before filtering: 4480\n",
      "len df after filtering  183509\n",
      "Unique traffic sensors after filtering: 65\n"
     ]
    },
    {
     "name": "stderr",
     "output_type": "stream",
     "text": [
      "/var/folders/kc/t6c9n8gj7mbblj0w7sy3ykwm0000gn/T/ipykernel_56655/1748940065.py:22: FutureWarning: 'H' is deprecated and will be removed in a future version, please use 'h' instead.\n",
      "  df_traffic['hora'] = df_traffic['fecha'].dt.floor('H')\n",
      "Processing groups: 100%|██████████| 46203/46203 [00:07<00:00, 6272.36it/s]\n"
     ]
    },
    {
     "name": "stdout",
     "output_type": "stream",
     "text": [
      "Processed and saved: ../../data/processed/traffic/2022/09-2022_processed.parquet\n",
      "entra id\n",
      "len df before filtering  11693047\n",
      "Unique traffic sensors before filtering: 4148\n",
      "len df after filtering  178181\n",
      "Unique traffic sensors after filtering: 63\n"
     ]
    },
    {
     "name": "stderr",
     "output_type": "stream",
     "text": [
      "/var/folders/kc/t6c9n8gj7mbblj0w7sy3ykwm0000gn/T/ipykernel_56655/1748940065.py:22: FutureWarning: 'H' is deprecated and will be removed in a future version, please use 'h' instead.\n",
      "  df_traffic['hora'] = df_traffic['fecha'].dt.floor('H')\n",
      "Processing groups: 100%|██████████| 45087/45087 [00:06<00:00, 6576.41it/s]\n"
     ]
    },
    {
     "name": "stdout",
     "output_type": "stream",
     "text": [
      "Processed and saved: ../../data/processed/traffic/2022/08-2022_processed.parquet\n",
      "entra id\n",
      "len df before filtering  11323906\n",
      "Unique traffic sensors before filtering: 4119\n"
     ]
    },
    {
     "name": "stderr",
     "output_type": "stream",
     "text": [
      "/var/folders/kc/t6c9n8gj7mbblj0w7sy3ykwm0000gn/T/ipykernel_56655/1748940065.py:22: FutureWarning: 'H' is deprecated and will be removed in a future version, please use 'h' instead.\n",
      "  df_traffic['hora'] = df_traffic['fecha'].dt.floor('H')\n"
     ]
    },
    {
     "name": "stdout",
     "output_type": "stream",
     "text": [
      "len df after filtering  168451\n",
      "Unique traffic sensors after filtering: 60\n"
     ]
    },
    {
     "name": "stderr",
     "output_type": "stream",
     "text": [
      "Processing groups: 100%|██████████| 42616/42616 [00:06<00:00, 6510.42it/s]\n"
     ]
    },
    {
     "name": "stdout",
     "output_type": "stream",
     "text": [
      "Processed and saved: ../../data/processed/traffic/2022/04-2022_processed.parquet\n",
      "entra id\n",
      "len df before filtering  11732565\n",
      "Unique traffic sensors before filtering: 4127\n",
      "len df after filtering  169400\n",
      "Unique traffic sensors after filtering: 60\n"
     ]
    },
    {
     "name": "stderr",
     "output_type": "stream",
     "text": [
      "/var/folders/kc/t6c9n8gj7mbblj0w7sy3ykwm0000gn/T/ipykernel_56655/1748940065.py:22: FutureWarning: 'H' is deprecated and will be removed in a future version, please use 'h' instead.\n",
      "  df_traffic['hora'] = df_traffic['fecha'].dt.floor('H')\n",
      "Processing groups: 100%|██████████| 42735/42735 [00:06<00:00, 6582.41it/s]\n"
     ]
    },
    {
     "name": "stdout",
     "output_type": "stream",
     "text": [
      "Processed and saved: ../../data/processed/traffic/2022/05-2022_processed.parquet\n",
      "entra id\n",
      "len df before filtering  12512133\n",
      "Unique traffic sensors before filtering: 4487\n",
      "len df after filtering  192487\n",
      "Unique traffic sensors after filtering: 65\n"
     ]
    },
    {
     "name": "stderr",
     "output_type": "stream",
     "text": [
      "/var/folders/kc/t6c9n8gj7mbblj0w7sy3ykwm0000gn/T/ipykernel_56655/1748940065.py:22: FutureWarning: 'H' is deprecated and will be removed in a future version, please use 'h' instead.\n",
      "  df_traffic['hora'] = df_traffic['fecha'].dt.floor('H')\n",
      "Processing groups: 100%|██████████| 48259/48259 [00:07<00:00, 6293.24it/s]\n"
     ]
    },
    {
     "name": "stdout",
     "output_type": "stream",
     "text": [
      "Processed and saved: ../../data/processed/traffic/2022/12-2022_processed.parquet\n",
      "Processing folder: ../../data/raw/traffic/2023\n",
      "entra id\n",
      "len df before filtering  12644350\n",
      "Unique traffic sensors before filtering: 4506\n",
      "len df after filtering  192113\n",
      "Unique traffic sensors after filtering: 65\n"
     ]
    },
    {
     "name": "stderr",
     "output_type": "stream",
     "text": [
      "/var/folders/kc/t6c9n8gj7mbblj0w7sy3ykwm0000gn/T/ipykernel_56655/1748940065.py:22: FutureWarning: 'H' is deprecated and will be removed in a future version, please use 'h' instead.\n",
      "  df_traffic['hora'] = df_traffic['fecha'].dt.floor('H')\n",
      "Processing groups: 100%|██████████| 48231/48231 [00:07<00:00, 6331.78it/s]\n"
     ]
    },
    {
     "name": "stdout",
     "output_type": "stream",
     "text": [
      "Processed and saved: ../../data/processed/traffic/2023/01-2023_processed.parquet\n",
      "entra id\n",
      "len df before filtering  12774666\n",
      "Unique traffic sensors before filtering: 4663\n",
      "len df after filtering  180574\n",
      "Unique traffic sensors after filtering: 65\n"
     ]
    },
    {
     "name": "stderr",
     "output_type": "stream",
     "text": [
      "/var/folders/kc/t6c9n8gj7mbblj0w7sy3ykwm0000gn/T/ipykernel_56655/1748940065.py:22: FutureWarning: 'H' is deprecated and will be removed in a future version, please use 'h' instead.\n",
      "  df_traffic['hora'] = df_traffic['fecha'].dt.floor('H')\n",
      "Processing groups: 100%|██████████| 45523/45523 [00:07<00:00, 6275.01it/s]\n"
     ]
    },
    {
     "name": "stdout",
     "output_type": "stream",
     "text": [
      "Processed and saved: ../../data/processed/traffic/2023/11-2023_processed.parquet\n",
      "entra id\n",
      "len df before filtering  12946685\n",
      "Unique traffic sensors before filtering: 4603\n",
      "len df after filtering  179546\n",
      "Unique traffic sensors after filtering: 65\n"
     ]
    },
    {
     "name": "stderr",
     "output_type": "stream",
     "text": [
      "/var/folders/kc/t6c9n8gj7mbblj0w7sy3ykwm0000gn/T/ipykernel_56655/1748940065.py:22: FutureWarning: 'H' is deprecated and will be removed in a future version, please use 'h' instead.\n",
      "  df_traffic['hora'] = df_traffic['fecha'].dt.floor('H')\n",
      "Processing groups: 100%|██████████| 45348/45348 [00:07<00:00, 6277.63it/s]\n"
     ]
    },
    {
     "name": "stdout",
     "output_type": "stream",
     "text": [
      "Processed and saved: ../../data/processed/traffic/2023/10-2023_processed.parquet\n",
      "entra id\n",
      "len df before filtering  12485567\n",
      "Unique traffic sensors before filtering: 4551\n",
      "len df after filtering  178532\n",
      "Unique traffic sensors after filtering: 65\n"
     ]
    },
    {
     "name": "stderr",
     "output_type": "stream",
     "text": [
      "/var/folders/kc/t6c9n8gj7mbblj0w7sy3ykwm0000gn/T/ipykernel_56655/1748940065.py:22: FutureWarning: 'H' is deprecated and will be removed in a future version, please use 'h' instead.\n",
      "  df_traffic['hora'] = df_traffic['fecha'].dt.floor('H')\n",
      "Processing groups: 100%|██████████| 45088/45088 [00:07<00:00, 6292.60it/s]\n"
     ]
    },
    {
     "name": "stdout",
     "output_type": "stream",
     "text": [
      "Processed and saved: ../../data/processed/traffic/2023/06-2023_processed.parquet\n",
      "entra id\n",
      "len df before filtering  12945236\n",
      "Unique traffic sensors before filtering: 4582\n",
      "len df after filtering  179991\n",
      "Unique traffic sensors after filtering: 65\n"
     ]
    },
    {
     "name": "stderr",
     "output_type": "stream",
     "text": [
      "/var/folders/kc/t6c9n8gj7mbblj0w7sy3ykwm0000gn/T/ipykernel_56655/1748940065.py:22: FutureWarning: 'H' is deprecated and will be removed in a future version, please use 'h' instead.\n",
      "  df_traffic['hora'] = df_traffic['fecha'].dt.floor('H')\n",
      "Processing groups: 100%|██████████| 45567/45567 [00:07<00:00, 6337.63it/s]\n"
     ]
    },
    {
     "name": "stdout",
     "output_type": "stream",
     "text": [
      "Processed and saved: ../../data/processed/traffic/2023/07-2023_processed.parquet\n",
      "entra id\n",
      "len df before filtering  11388974\n",
      "Unique traffic sensors before filtering: 4503\n",
      "len df after filtering  171499\n",
      "Unique traffic sensors after filtering: 65\n"
     ]
    },
    {
     "name": "stderr",
     "output_type": "stream",
     "text": [
      "/var/folders/kc/t6c9n8gj7mbblj0w7sy3ykwm0000gn/T/ipykernel_56655/1748940065.py:22: FutureWarning: 'H' is deprecated and will be removed in a future version, please use 'h' instead.\n",
      "  df_traffic['hora'] = df_traffic['fecha'].dt.floor('H')\n",
      "Processing groups: 100%|██████████| 43370/43370 [00:06<00:00, 6270.33it/s]\n"
     ]
    },
    {
     "name": "stdout",
     "output_type": "stream",
     "text": [
      "Processed and saved: ../../data/processed/traffic/2023/02-2023_processed.parquet\n",
      "entra id\n",
      "len df before filtering  12732652\n",
      "Unique traffic sensors before filtering: 4512\n",
      "len df after filtering  190900\n",
      "Unique traffic sensors after filtering: 65\n"
     ]
    },
    {
     "name": "stderr",
     "output_type": "stream",
     "text": [
      "/var/folders/kc/t6c9n8gj7mbblj0w7sy3ykwm0000gn/T/ipykernel_56655/1748940065.py:22: FutureWarning: 'H' is deprecated and will be removed in a future version, please use 'h' instead.\n",
      "  df_traffic['hora'] = df_traffic['fecha'].dt.floor('H')\n",
      "Processing groups: 100%|██████████| 48070/48070 [00:07<00:00, 6259.46it/s]\n"
     ]
    },
    {
     "name": "stdout",
     "output_type": "stream",
     "text": [
      "Processed and saved: ../../data/processed/traffic/2023/03-2023_processed.parquet\n",
      "entra id\n",
      "len df before filtering  12744711\n",
      "Unique traffic sensors before filtering: 4588\n",
      "len df after filtering  178430\n",
      "Unique traffic sensors after filtering: 65\n"
     ]
    },
    {
     "name": "stderr",
     "output_type": "stream",
     "text": [
      "/var/folders/kc/t6c9n8gj7mbblj0w7sy3ykwm0000gn/T/ipykernel_56655/1748940065.py:22: FutureWarning: 'H' is deprecated and will be removed in a future version, please use 'h' instead.\n",
      "  df_traffic['hora'] = df_traffic['fecha'].dt.floor('H')\n",
      "Processing groups: 100%|██████████| 45404/45404 [00:07<00:00, 6287.94it/s]\n"
     ]
    },
    {
     "name": "stdout",
     "output_type": "stream",
     "text": [
      "Processed and saved: ../../data/processed/traffic/2023/08-2023_processed.parquet\n",
      "entra id\n",
      "len df before filtering  12518185\n",
      "Unique traffic sensors before filtering: 4563\n",
      "len df after filtering  176811\n",
      "Unique traffic sensors after filtering: 65\n"
     ]
    },
    {
     "name": "stderr",
     "output_type": "stream",
     "text": [
      "/var/folders/kc/t6c9n8gj7mbblj0w7sy3ykwm0000gn/T/ipykernel_56655/1748940065.py:22: FutureWarning: 'H' is deprecated and will be removed in a future version, please use 'h' instead.\n",
      "  df_traffic['hora'] = df_traffic['fecha'].dt.floor('H')\n",
      "Processing groups: 100%|██████████| 44441/44441 [00:07<00:00, 6325.66it/s]\n"
     ]
    },
    {
     "name": "stdout",
     "output_type": "stream",
     "text": [
      "Processed and saved: ../../data/processed/traffic/2023/09-2023_processed.parquet\n",
      "entra id\n",
      "len df before filtering  12926315\n",
      "Unique traffic sensors before filtering: 4547\n",
      "len df after filtering  189990\n",
      "Unique traffic sensors after filtering: 65\n"
     ]
    },
    {
     "name": "stderr",
     "output_type": "stream",
     "text": [
      "/var/folders/kc/t6c9n8gj7mbblj0w7sy3ykwm0000gn/T/ipykernel_56655/1748940065.py:22: FutureWarning: 'H' is deprecated and will be removed in a future version, please use 'h' instead.\n",
      "  df_traffic['hora'] = df_traffic['fecha'].dt.floor('H')\n",
      "Processing groups: 100%|██████████| 47728/47728 [00:07<00:00, 6305.48it/s]\n"
     ]
    },
    {
     "name": "stdout",
     "output_type": "stream",
     "text": [
      "Processed and saved: ../../data/processed/traffic/2023/05-2023_processed.parquet\n",
      "entra id\n",
      "len df before filtering  12438772\n",
      "Unique traffic sensors before filtering: 4541\n",
      "len df after filtering  183742\n",
      "Unique traffic sensors after filtering: 65\n"
     ]
    },
    {
     "name": "stderr",
     "output_type": "stream",
     "text": [
      "/var/folders/kc/t6c9n8gj7mbblj0w7sy3ykwm0000gn/T/ipykernel_56655/1748940065.py:22: FutureWarning: 'H' is deprecated and will be removed in a future version, please use 'h' instead.\n",
      "  df_traffic['hora'] = df_traffic['fecha'].dt.floor('H')\n",
      "Processing groups: 100%|██████████| 46182/46182 [00:07<00:00, 6268.20it/s]\n"
     ]
    },
    {
     "name": "stdout",
     "output_type": "stream",
     "text": [
      "Processed and saved: ../../data/processed/traffic/2023/04-2023_processed.parquet\n",
      "entra id\n",
      "len df before filtering  13224732\n",
      "Unique traffic sensors before filtering: 4659\n",
      "len df after filtering  190599\n",
      "Unique traffic sensors after filtering: 65\n"
     ]
    },
    {
     "name": "stderr",
     "output_type": "stream",
     "text": [
      "/var/folders/kc/t6c9n8gj7mbblj0w7sy3ykwm0000gn/T/ipykernel_56655/1748940065.py:22: FutureWarning: 'H' is deprecated and will be removed in a future version, please use 'h' instead.\n",
      "  df_traffic['hora'] = df_traffic['fecha'].dt.floor('H')\n",
      "Processing groups: 100%|██████████| 47876/47876 [00:07<00:00, 6244.48it/s]\n"
     ]
    },
    {
     "name": "stdout",
     "output_type": "stream",
     "text": [
      "Processed and saved: ../../data/processed/traffic/2023/12-2023_processed.parquet\n",
      "Processing folder: ../../data/raw/traffic/2024\n",
      "entra id\n",
      "len df before filtering  12779019\n",
      "Unique traffic sensors before filtering: 4696\n",
      "len df after filtering  175396\n",
      "Unique traffic sensors after filtering: 64\n"
     ]
    },
    {
     "name": "stderr",
     "output_type": "stream",
     "text": [
      "/var/folders/kc/t6c9n8gj7mbblj0w7sy3ykwm0000gn/T/ipykernel_56655/1748940065.py:22: FutureWarning: 'H' is deprecated and will be removed in a future version, please use 'h' instead.\n",
      "  df_traffic['hora'] = df_traffic['fecha'].dt.floor('H')\n",
      "Processing groups: 100%|██████████| 44131/44131 [00:07<00:00, 6285.73it/s]\n"
     ]
    },
    {
     "name": "stdout",
     "output_type": "stream",
     "text": [
      "Processed and saved: ../../data/processed/traffic/2024/09_2024_processed.parquet\n",
      "entra id\n",
      "len df before filtering  13343452\n",
      "Unique traffic sensors before filtering: 4699\n",
      "len df after filtering  191199\n",
      "Unique traffic sensors after filtering: 65\n"
     ]
    },
    {
     "name": "stderr",
     "output_type": "stream",
     "text": [
      "/var/folders/kc/t6c9n8gj7mbblj0w7sy3ykwm0000gn/T/ipykernel_56655/1748940065.py:22: FutureWarning: 'H' is deprecated and will be removed in a future version, please use 'h' instead.\n",
      "  df_traffic['hora'] = df_traffic['fecha'].dt.floor('H')\n",
      "Processing groups: 100%|██████████| 48040/48040 [00:07<00:00, 6332.20it/s]\n"
     ]
    },
    {
     "name": "stdout",
     "output_type": "stream",
     "text": [
      "Processed and saved: ../../data/processed/traffic/2024/01-2024_processed.parquet\n",
      "entra id\n",
      "len df before filtering  12918338\n",
      "Unique traffic sensors before filtering: 4703\n",
      "len df after filtering  177865\n",
      "Unique traffic sensors after filtering: 64\n"
     ]
    },
    {
     "name": "stderr",
     "output_type": "stream",
     "text": [
      "/var/folders/kc/t6c9n8gj7mbblj0w7sy3ykwm0000gn/T/ipykernel_56655/1748940065.py:22: FutureWarning: 'H' is deprecated and will be removed in a future version, please use 'h' instead.\n",
      "  df_traffic['hora'] = df_traffic['fecha'].dt.floor('H')\n",
      "Processing groups: 100%|██████████| 45075/45075 [00:07<00:00, 6268.48it/s]\n"
     ]
    },
    {
     "name": "stdout",
     "output_type": "stream",
     "text": [
      "Processed and saved: ../../data/processed/traffic/2024/06-2024_processed.parquet\n",
      "entra id\n",
      "len df before filtering  13351339\n",
      "Unique traffic sensors before filtering: 4682\n",
      "len df after filtering  181897\n",
      "Unique traffic sensors after filtering: 64\n"
     ]
    },
    {
     "name": "stderr",
     "output_type": "stream",
     "text": [
      "/var/folders/kc/t6c9n8gj7mbblj0w7sy3ykwm0000gn/T/ipykernel_56655/1748940065.py:22: FutureWarning: 'H' is deprecated and will be removed in a future version, please use 'h' instead.\n",
      "  df_traffic['hora'] = df_traffic['fecha'].dt.floor('H')\n",
      "Processing groups: 100%|██████████| 46140/46140 [00:07<00:00, 6248.42it/s]\n"
     ]
    },
    {
     "name": "stdout",
     "output_type": "stream",
     "text": [
      "Processed and saved: ../../data/processed/traffic/2024/07-2024_processed.parquet\n",
      "entra id\n",
      "len df before filtering  12513169\n",
      "Unique traffic sensors before filtering: 4677\n",
      "len df after filtering  173261\n",
      "Unique traffic sensors after filtering: 64\n"
     ]
    },
    {
     "name": "stderr",
     "output_type": "stream",
     "text": [
      "/var/folders/kc/t6c9n8gj7mbblj0w7sy3ykwm0000gn/T/ipykernel_56655/1748940065.py:22: FutureWarning: 'H' is deprecated and will be removed in a future version, please use 'h' instead.\n",
      "  df_traffic['hora'] = df_traffic['fecha'].dt.floor('H')\n",
      "Processing groups: 100%|██████████| 43539/43539 [00:06<00:00, 6494.69it/s]\n"
     ]
    },
    {
     "name": "stdout",
     "output_type": "stream",
     "text": [
      "Processed and saved: ../../data/processed/traffic/2024/11-2024_processed.parquet\n",
      "entra id\n",
      "len df before filtering  12918900\n",
      "Unique traffic sensors before filtering: 4690\n",
      "len df after filtering  180889\n",
      "Unique traffic sensors after filtering: 64\n"
     ]
    },
    {
     "name": "stderr",
     "output_type": "stream",
     "text": [
      "/var/folders/kc/t6c9n8gj7mbblj0w7sy3ykwm0000gn/T/ipykernel_56655/1748940065.py:22: FutureWarning: 'H' is deprecated and will be removed in a future version, please use 'h' instead.\n",
      "  df_traffic['hora'] = df_traffic['fecha'].dt.floor('H')\n",
      "Processing groups: 100%|██████████| 45447/45447 [00:07<00:00, 6325.82it/s]\n"
     ]
    },
    {
     "name": "stdout",
     "output_type": "stream",
     "text": [
      "Processed and saved: ../../data/processed/traffic/2024/10-2024_processed.parquet\n",
      "entra id\n",
      "len df before filtering  12532935\n",
      "Unique traffic sensors before filtering: 4689\n",
      "len df after filtering  177302\n",
      "Unique traffic sensors after filtering: 65\n"
     ]
    },
    {
     "name": "stderr",
     "output_type": "stream",
     "text": [
      "/var/folders/kc/t6c9n8gj7mbblj0w7sy3ykwm0000gn/T/ipykernel_56655/1748940065.py:22: FutureWarning: 'H' is deprecated and will be removed in a future version, please use 'h' instead.\n",
      "  df_traffic['hora'] = df_traffic['fecha'].dt.floor('H')\n",
      "Processing groups: 100%|██████████| 44674/44674 [00:07<00:00, 6245.94it/s]\n"
     ]
    },
    {
     "name": "stdout",
     "output_type": "stream",
     "text": [
      "Processed and saved: ../../data/processed/traffic/2024/02-2024_processed.parquet\n",
      "entra id\n",
      "len df before filtering  13451928\n",
      "Unique traffic sensors before filtering: 4695\n",
      "len df after filtering  189933\n",
      "Unique traffic sensors after filtering: 65\n"
     ]
    },
    {
     "name": "stderr",
     "output_type": "stream",
     "text": [
      "/var/folders/kc/t6c9n8gj7mbblj0w7sy3ykwm0000gn/T/ipykernel_56655/1748940065.py:22: FutureWarning: 'H' is deprecated and will be removed in a future version, please use 'h' instead.\n",
      "  df_traffic['hora'] = df_traffic['fecha'].dt.floor('H')\n",
      "Processing groups: 100%|██████████| 47787/47787 [00:07<00:00, 6257.38it/s]\n"
     ]
    },
    {
     "name": "stdout",
     "output_type": "stream",
     "text": [
      "Processed and saved: ../../data/processed/traffic/2024/03-2024_processed.parquet\n",
      "entra id\n",
      "len df before filtering  13214710\n",
      "Unique traffic sensors before filtering: 4678\n",
      "len df after filtering  184951\n",
      "Unique traffic sensors after filtering: 64\n"
     ]
    },
    {
     "name": "stderr",
     "output_type": "stream",
     "text": [
      "/var/folders/kc/t6c9n8gj7mbblj0w7sy3ykwm0000gn/T/ipykernel_56655/1748940065.py:22: FutureWarning: 'H' is deprecated and will be removed in a future version, please use 'h' instead.\n",
      "  df_traffic['hora'] = df_traffic['fecha'].dt.floor('H')\n",
      "Processing groups: 100%|██████████| 46974/46974 [00:07<00:00, 6332.28it/s]\n"
     ]
    },
    {
     "name": "stdout",
     "output_type": "stream",
     "text": [
      "Processed and saved: ../../data/processed/traffic/2024/08-2024_processed.parquet\n",
      "entra id\n",
      "len df before filtering  13296461\n",
      "Unique traffic sensors before filtering: 4679\n",
      "len df after filtering  178790\n",
      "Unique traffic sensors after filtering: 62\n"
     ]
    },
    {
     "name": "stderr",
     "output_type": "stream",
     "text": [
      "/var/folders/kc/t6c9n8gj7mbblj0w7sy3ykwm0000gn/T/ipykernel_56655/1748940065.py:22: FutureWarning: 'H' is deprecated and will be removed in a future version, please use 'h' instead.\n",
      "  df_traffic['hora'] = df_traffic['fecha'].dt.floor('H')\n",
      "Processing groups: 100%|██████████| 44863/44863 [00:06<00:00, 6484.74it/s]\n"
     ]
    },
    {
     "name": "stdout",
     "output_type": "stream",
     "text": [
      "Processed and saved: ../../data/processed/traffic/2024/12-2024_processed.parquet\n",
      "entra id\n",
      "len df before filtering  13357035\n",
      "Unique traffic sensors before filtering: 4706\n",
      "len df after filtering  184864\n",
      "Unique traffic sensors after filtering: 64\n"
     ]
    },
    {
     "name": "stderr",
     "output_type": "stream",
     "text": [
      "/var/folders/kc/t6c9n8gj7mbblj0w7sy3ykwm0000gn/T/ipykernel_56655/1748940065.py:22: FutureWarning: 'H' is deprecated and will be removed in a future version, please use 'h' instead.\n",
      "  df_traffic['hora'] = df_traffic['fecha'].dt.floor('H')\n",
      "Processing groups: 100%|██████████| 46887/46887 [00:07<00:00, 6282.32it/s]\n"
     ]
    },
    {
     "name": "stdout",
     "output_type": "stream",
     "text": [
      "Processed and saved: ../../data/processed/traffic/2024/05-2024_processed.parquet\n",
      "entra id\n",
      "len df before filtering  13010780\n",
      "Unique traffic sensors before filtering: 4695\n",
      "len df after filtering  183015\n",
      "Unique traffic sensors after filtering: 65\n"
     ]
    },
    {
     "name": "stderr",
     "output_type": "stream",
     "text": [
      "/var/folders/kc/t6c9n8gj7mbblj0w7sy3ykwm0000gn/T/ipykernel_56655/1748940065.py:22: FutureWarning: 'H' is deprecated and will be removed in a future version, please use 'h' instead.\n",
      "  df_traffic['hora'] = df_traffic['fecha'].dt.floor('H')\n",
      "Processing groups: 100%|██████████| 46183/46183 [00:07<00:00, 6317.98it/s]\n"
     ]
    },
    {
     "name": "stdout",
     "output_type": "stream",
     "text": [
      "Processed and saved: ../../data/processed/traffic/2024/04-2024_processed.parquet\n"
     ]
    }
   ],
   "source": [
    "# Define the root directory\n",
    "root_dir = '../../data/raw/traffic'\n",
    "\n",
    "# Iterate through all year folders\n",
    "for year in range(2018, 2025):\n",
    "    year_folder = os.path.join(root_dir, str(year))\n",
    "    \n",
    "    # Check if the year folder exists\n",
    "    if os.path.isdir(year_folder):\n",
    "        print(f\"Processing folder: {year_folder}\")\n",
    "        \n",
    "        # Iterate through files in the year folder\n",
    "        for file_name in os.listdir(year_folder):\n",
    "            if file_name.endswith('.csv'):  # Ensure it's a CSV file\n",
    "                \n",
    "                \n",
    "                file_path = os.path.join(year_folder, file_name)\n",
    "                \n",
    "                try:\n",
    "                    df = pd.read_csv(file_path, delimiter= \";\")\n",
    "                    \n",
    "                    df = df.rename(columns = {'hora': 'fecha'})\n",
    "                    df['fecha'] = pd.to_datetime(df['fecha'])\n",
    "                        \n",
    "                    # algunos se llaman id y otros identif\n",
    "                    # Rename columns if they exist\n",
    "                    if 'identif' in df.columns:\n",
    "                        # for data before 2018...\n",
    "                        df = df.rename(columns={'identif': 'id_trafico'})\n",
    "\n",
    "                    if 'id' in df.columns:\n",
    "\n",
    "                        df = df.rename(columns={'id': 'id_trafico'})\n",
    "                        \n",
    "                    df['id_trafico'] = df['id_trafico'].apply(lambda x: str(int(x)) if str(x).isdigit() else str(x))\n",
    "                    df['id_trafico'] = df['id_trafico'].astype(str)\n",
    "\n",
    "                    print(\"len df before filtering \", len(df))\n",
    "                    print(\"Unique traffic sensors before filtering:\" , df.id_trafico.nunique())\n",
    "\n",
    "                    df = df[df['id_trafico'].isin(filtered_traffic_sensors)]\n",
    "                    \n",
    "                    print(\"len df after filtering \", len(df))\n",
    "                    print(\"Unique traffic sensors after filtering:\" , df.id_trafico.nunique())\n",
    "                    \n",
    "                    # if 'S' in df.error.unique():\n",
    "                    #     print(f\"There are errors in file: {file_name}\")\n",
    "                    #     print(\"There are a total of \", len(df[df['error'] == 'S']) , \" errors\")\n",
    "                        \n",
    "                    #     df = corregir_errores(df)\n",
    "\n",
    "                    df = df[df['error'] == 'N']\n",
    "                        \n",
    "                    df = process_traffic_data(df)\n",
    "                        \n",
    "                    # Create the new file name\n",
    "                    new_file_name = f\"{file_name[:-4]}_processed.parquet\"\n",
    "                    new_file_path = os.path.join(year_folder, new_file_name)\n",
    "                    new_file_path = new_file_path.replace(\"raw\", \"processed\")\n",
    "                    \n",
    "                    # Create the processed directory if it does not exist\n",
    "                    processed_dir = os.path.dirname(new_file_path)\n",
    "                    os.makedirs(processed_dir, exist_ok=True)\n",
    "\n",
    "                    # Save the processed DataFrame\n",
    "                    df.to_parquet(new_file_path, index=False)\n",
    "                    \n",
    "                    print(f\"Processed and saved: {new_file_path}\")\n",
    "                except Exception as e:\n",
    "                    print(f\"Error processing file {file_name}: {e}\")\n"
   ]
  },
  {
   "cell_type": "code",
   "execution_count": null,
   "metadata": {},
   "outputs": [],
   "source": []
  }
 ],
 "metadata": {
  "kernelspec": {
   "display_name": "master_thesis",
   "language": "python",
   "name": "python3"
  },
  "language_info": {
   "codemirror_mode": {
    "name": "ipython",
    "version": 3
   },
   "file_extension": ".py",
   "mimetype": "text/x-python",
   "name": "python",
   "nbconvert_exporter": "python",
   "pygments_lexer": "ipython3",
   "version": "3.12.8"
  }
 },
 "nbformat": 4,
 "nbformat_minor": 2
}
