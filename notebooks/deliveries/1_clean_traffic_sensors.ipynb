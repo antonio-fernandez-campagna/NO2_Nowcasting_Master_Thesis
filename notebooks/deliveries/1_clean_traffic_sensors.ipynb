{
 "cells": [
  {
   "cell_type": "code",
   "execution_count": 1,
   "metadata": {},
   "outputs": [
    {
     "name": "stdout",
     "output_type": "stream",
     "text": [
      "Processing folder: ../../data/raw/traffic_sensors_locations/2018\n",
      "Error processing file pmed_ubicacion_04-2018.xlsx: \"['latitud', 'longitud'] not in index\"\n",
      "Processing folder: ../../data/raw/traffic_sensors_locations/2019\n"
     ]
    },
    {
     "name": "stderr",
     "output_type": "stream",
     "text": [
      "/var/folders/kc/t6c9n8gj7mbblj0w7sy3ykwm0000gn/T/ipykernel_84839/2083469249.py:36: FutureWarning: The behavior of DataFrame concatenation with empty or all-NA entries is deprecated. In a future version, this will no longer exclude empty or all-NA columns when determining the result dtypes. To retain the old behavior, exclude the relevant entries before the concat operation.\n",
      "  aux_df = pd.concat([aux_df, df_unique], ignore_index=True)\n"
     ]
    },
    {
     "name": "stdout",
     "output_type": "stream",
     "text": [
      "Processed file: pmed_ubicacion_01-2019.xlsx\n",
      "Processing folder: ../../data/raw/traffic_sensors_locations/2020\n",
      "Processed file: pmed_ubicacion_01-2020.xlsx\n",
      "Processing folder: ../../data/raw/traffic_sensors_locations/2021\n",
      "Processed file: pmed_ubicacion_01-2021.xlsx\n",
      "Processing folder: ../../data/raw/traffic_sensors_locations/2022\n",
      "Processed file: pmed_ubicacion_01-2022.xlsx\n",
      "Processing folder: ../../data/raw/traffic_sensors_locations/2023\n",
      "Processed file: pmed_ubicacion_01-2023.xlsx\n",
      "Processing folder: ../../data/raw/traffic_sensors_locations/2024\n",
      "Processed file: pmed_ubicacion_01-2024.xlsx\n",
      "Processing folder: ../../data/raw/traffic_sensors_locations/2025\n",
      "Processed file: pmed_ubicacion_01-2025.xlsx\n"
     ]
    }
   ],
   "source": [
    "import os\n",
    "import pandas as pd\n",
    "\n",
    "# Define the root directory\n",
    "root_dir = '../../data/raw/traffic_sensors_locations'\n",
    "\n",
    "# Create an auxiliary DataFrame to store unique latitud and longitud\n",
    "aux_df = pd.DataFrame(columns=['latitud', 'longitud'])\n",
    "\n",
    "# Iterate through all year folders\n",
    "for year in range(2018, 2026):\n",
    "    year_folder = os.path.join(root_dir, str(year))\n",
    "    \n",
    "    # Check if the year folder exists\n",
    "    if os.path.isdir(year_folder):\n",
    "        print(f\"Processing folder: {year_folder}\")\n",
    "        \n",
    "        # Iterate through files in the year folder\n",
    "        for file_name in os.listdir(year_folder):\n",
    "            if file_name.endswith('.xlsx'):  # Ensure it's a CSV file\n",
    "                \n",
    "                file_path = os.path.join(year_folder, file_name)\n",
    "                \n",
    "                try:\n",
    "                    df = pd.read_excel(file_path)\n",
    "                    \n",
    "                    # Remove duplicated values by looking at both \"latitud\" and \"longitud\"\n",
    "                    df_unique = df[['latitud', 'longitud','id']].drop_duplicates()\n",
    "                    \n",
    "                    # Round both columns to 4 decimal places\n",
    "                    #df_unique['latitud'] = df_unique['latitud'].round(4)\n",
    "                    #df_unique['longitud'] = df_unique['longitud'].round(4)\n",
    "                    df_unique['id'] = df_unique['id']\n",
    "                    \n",
    "                    # Append to the auxiliary DataFrame\n",
    "                    aux_df = pd.concat([aux_df, df_unique], ignore_index=True)\n",
    "                \n",
    "                    print(f\"Processed file: {file_name}\")\n",
    "                except Exception as e:\n",
    "                    print(f\"Error processing file {file_name}: {e}\")"
   ]
  },
  {
   "cell_type": "code",
   "execution_count": 2,
   "metadata": {},
   "outputs": [],
   "source": [
    "df_unique = aux_df.drop_duplicates(subset=['id'], keep='first')"
   ]
  },
  {
   "cell_type": "code",
   "execution_count": 3,
   "metadata": {},
   "outputs": [
    {
     "name": "stderr",
     "output_type": "stream",
     "text": [
      "/var/folders/kc/t6c9n8gj7mbblj0w7sy3ykwm0000gn/T/ipykernel_84839/3134011842.py:1: SettingWithCopyWarning: \n",
      "A value is trying to be set on a copy of a slice from a DataFrame.\n",
      "Try using .loc[row_indexer,col_indexer] = value instead\n",
      "\n",
      "See the caveats in the documentation: https://pandas.pydata.org/pandas-docs/stable/user_guide/indexing.html#returning-a-view-versus-a-copy\n",
      "  df_unique['id'] = df_unique['id'].astype(int)\n",
      "/var/folders/kc/t6c9n8gj7mbblj0w7sy3ykwm0000gn/T/ipykernel_84839/3134011842.py:2: SettingWithCopyWarning: \n",
      "A value is trying to be set on a copy of a slice from a DataFrame\n",
      "\n",
      "See the caveats in the documentation: https://pandas.pydata.org/pandas-docs/stable/user_guide/indexing.html#returning-a-view-versus-a-copy\n",
      "  df_unique.rename(columns = {'id': 'id_trafico'}, inplace = True)\n"
     ]
    }
   ],
   "source": [
    "df_unique['id'] = df_unique['id'].astype(int)\n",
    "df_unique.rename(columns = {'id': 'id_trafico'}, inplace = True)"
   ]
  },
  {
   "cell_type": "code",
   "execution_count": 4,
   "metadata": {},
   "outputs": [],
   "source": [
    "df_unique.to_excel(\"1_all_traffic_sensors.xlsx\", index = False)"
   ]
  }
 ],
 "metadata": {
  "kernelspec": {
   "display_name": "master_thesis",
   "language": "python",
   "name": "python3"
  },
  "language_info": {
   "codemirror_mode": {
    "name": "ipython",
    "version": 3
   },
   "file_extension": ".py",
   "mimetype": "text/x-python",
   "name": "python",
   "nbconvert_exporter": "python",
   "pygments_lexer": "ipython3",
   "version": "3.12.8"
  }
 },
 "nbformat": 4,
 "nbformat_minor": 2
}
