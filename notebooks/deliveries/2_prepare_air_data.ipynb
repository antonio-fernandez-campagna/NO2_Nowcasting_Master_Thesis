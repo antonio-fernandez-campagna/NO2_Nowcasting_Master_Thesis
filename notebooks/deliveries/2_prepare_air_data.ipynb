{
 "cells": [
  {
   "cell_type": "code",
   "execution_count": 9,
   "metadata": {},
   "outputs": [],
   "source": [
    "import pandas as pd\n",
    "import os"
   ]
  },
  {
   "cell_type": "code",
   "execution_count": 2,
   "metadata": {},
   "outputs": [],
   "source": [
    "# # Iterate over all folders inside ../data/data_quality/ and inside each folder, rename the file by the same\n",
    "# # name but only with the first 3 characters of the file name.\n",
    "# # only do it for the .csv files\n",
    "# # don't do it for the hidden files\n",
    "# # delete all the other files that are not .csv\n",
    "\n",
    "# for folder in os.listdir('../../data/air_quality/'):\n",
    "#     if not folder.startswith('.'):\n",
    "#         for file in os.listdir(f'../../data/air_quality/{folder}'):\n",
    "#             if file.endswith('.csv') and not file.startswith('.'):\n",
    "#                 os.rename(f'../../data/air_quality/{folder}/{file}', f'../../data/air_quality/{folder}/{file[:3]}.csv')\n",
    "#             else:\n",
    "#                 os.remove(f'../../data/air_quality/{folder}/{file}')"
   ]
  },
  {
   "cell_type": "code",
   "execution_count": 3,
   "metadata": {},
   "outputs": [],
   "source": [
    "# # Iterate over all folders and create one big dataframe with all the data\n",
    "# df = pd.DataFrame()\n",
    "# for folder in os.listdir('../../data/air_quality/'):\n",
    "#     if not folder.startswith('.'):\n",
    "#         for file in os.listdir(f'../../data/air_quality/{folder}'):\n",
    "#             df = pd.concat([df, pd.read_csv(f'../../data/air_quality/{folder}/{file}', delimiter=';')])"
   ]
  },
  {
   "cell_type": "code",
   "execution_count": 41,
   "metadata": {},
   "outputs": [
    {
     "name": "stderr",
     "output_type": "stream",
     "text": [
      "Processing folders: 100%|██████████| 13/13 [00:02<00:00,  5.55it/s]\n"
     ]
    }
   ],
   "source": [
    "# Import tqdm\n",
    "from tqdm import tqdm\n",
    "import os\n",
    "import pandas as pd\n",
    "\n",
    "# Iterate over all folders and create one big dataframe with all the data\n",
    "df = pd.DataFrame()\n",
    "for folder in tqdm(os.listdir('../../data/raw/air/'), desc='Processing folders'):\n",
    "    if folder == 'Anio2013' or folder == 'Anio2014' or folder == 'Anio2015' or folder == 'Anio2016' or folder == 'Anio2017':\n",
    "        continue\n",
    "    if not folder.startswith('.'):\n",
    "        for file in tqdm(os.listdir(f'../../data/raw/air/{folder}'), desc=f'Processing files in {folder}', leave=False):\n",
    "            if file.endswith('.csv'):  # Only process .csv files\n",
    "                df = pd.concat([df, pd.read_csv(f'../../data/raw/air/{folder}/{file}', delimiter=';')])"
   ]
  },
  {
   "cell_type": "code",
   "execution_count": 43,
   "metadata": {},
   "outputs": [],
   "source": [
    "df.to_parquet('2_all_data_air_quality_from_2018.parquet', index=False)"
   ]
  },
  {
   "cell_type": "code",
   "execution_count": null,
   "metadata": {},
   "outputs": [],
   "source": []
  }
 ],
 "metadata": {
  "kernelspec": {
   "display_name": "master_thesis",
   "language": "python",
   "name": "python3"
  },
  "language_info": {
   "codemirror_mode": {
    "name": "ipython",
    "version": 3
   },
   "file_extension": ".py",
   "mimetype": "text/x-python",
   "name": "python",
   "nbconvert_exporter": "python",
   "pygments_lexer": "ipython3",
   "version": "3.12.8"
  }
 },
 "nbformat": 4,
 "nbformat_minor": 2
}
