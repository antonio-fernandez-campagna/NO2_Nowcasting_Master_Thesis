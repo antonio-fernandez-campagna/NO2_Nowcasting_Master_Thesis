{
 "cells": [
  {
   "cell_type": "code",
   "execution_count": 1,
   "metadata": {},
   "outputs": [],
   "source": [
    "import pandas as pd\n",
    "from tqdm import tqdm\n",
    "import polars as pl"
   ]
  },
  {
   "cell_type": "code",
   "execution_count": 2,
   "metadata": {},
   "outputs": [],
   "source": [
    "#df_traffic = pd.read_csv(\"../../data/traffic/2024/01-2024.csv\", delimiter= \";\")"
   ]
  },
  {
   "cell_type": "code",
   "execution_count": 3,
   "metadata": {},
   "outputs": [],
   "source": [
    "#df_traffic = pd.read_csv(\"../../data/traffic/2014/01-2014.csv\", delimiter= \";\")"
   ]
  },
  {
   "cell_type": "code",
   "execution_count": 4,
   "metadata": {},
   "outputs": [],
   "source": [
    "def process_traffic_data(df_traffic):\n",
    "    # Convert 'fecha' to datetime and floor to the nearest hour\n",
    "    df_traffic['fecha'] = pd.to_datetime(df_traffic['fecha'])\n",
    "    df_traffic['hora'] = df_traffic['fecha'].dt.floor('H')\n",
    "\n",
    "    # Filter out rows with negative values in specified columns\n",
    "    columnas_filtrar = ['intensidad', 'ocupacion', 'carga', 'vmed']\n",
    "    df_traffic_processed = df_traffic[df_traffic[columnas_filtrar].ge(0).all(axis=1)]\n",
    "\n",
    "    # Define a custom weighted average function\n",
    "    def weighted_average(group, value_column, weight_column):\n",
    "        values = group[value_column]\n",
    "        weights = group[weight_column]\n",
    "        weighted_avg = (values * weights).sum() / weights.sum() if weights.sum() > 0 else 0\n",
    "        return weighted_avg\n",
    "\n",
    "    # Initialize tqdm progress bar\n",
    "    grouped = df_traffic_processed.groupby(['id', 'hora'])\n",
    "    result = []\n",
    "\n",
    "    for name, group in tqdm(grouped, desc=\"Processing groups\"):\n",
    "        intensidad_sum = group['intensidad'].sum()\n",
    "        carga_mean = group['carga'].mean()\n",
    "        ocupacion_weighted = weighted_average(group, 'ocupacion', 'intensidad')\n",
    "        vmed_weighted = weighted_average(group, 'vmed', 'intensidad')\n",
    "        \n",
    "        result.append({\n",
    "            'id': name[0],\n",
    "            'hora': name[1],\n",
    "            'intensidad': intensidad_sum,\n",
    "            'carga': carga_mean,\n",
    "            'ocupacion': ocupacion_weighted,\n",
    "            'vmed': vmed_weighted\n",
    "        })\n",
    "\n",
    "    # Convert results back to DataFrame\n",
    "    df_traffic_processed = pd.DataFrame(result)\n",
    "    return df_traffic_processed"
   ]
  },
  {
   "cell_type": "code",
   "execution_count": 5,
   "metadata": {},
   "outputs": [],
   "source": [
    "# # Read the CSV file\n",
    "\n",
    "# file_path = '../../data/traffic/2014/11-2014.csv'\n",
    "# file_name = '01-2015.csv'\n",
    "# try:\n",
    "#     df = pd.read_csv(file_path, delimiter= \";\")\n",
    "    \n",
    "#     if 'S' in df.error.unique():\n",
    "#         print(f\"There are errors in file: {file_name}\")\n",
    "#     else:\n",
    "        \n",
    "#         df = df.rename(columns = {'identif':'id'})\n",
    "#         df = process_traffic_data(df)\n",
    "            \n",
    "# except Exception as e:\n",
    "#     print(f\"Error processing file {file_name}: {e}\")"
   ]
  },
  {
   "cell_type": "code",
   "execution_count": 6,
   "metadata": {},
   "outputs": [],
   "source": [
    "def corregir_errores(df):\n",
    "    # Asegurarse de que 'fecha' sea de tipo datetime\n",
    "    df['fecha'] = pd.to_datetime(df['fecha'])\n",
    "    \n",
    "    # Iterar por las filas donde 'error' es 'S'\n",
    "    for index, row in df[df['error'] == 'S'].iterrows():\n",
    "        # Buscar la fila 15 minutos antes con el mismo 'idelem'\n",
    "        fila_anterior = df[\n",
    "            (df['idelem'] == row['idelem']) & \n",
    "            (df['fecha'] == row['fecha'] - pd.Timedelta(minutes=15))\n",
    "        ]\n",
    "        \n",
    "        if not fila_anterior.empty:\n",
    "            # Copiar los valores de la fila anterior en la fila con error\n",
    "            for col in ['intensidad', 'ocupacion', 'carga', 'vmed','periodo_integracion']:\n",
    "                df.at[index, col] = fila_anterior.iloc[0][col]\n",
    "            \n",
    "            # Ajustar el error a 'N' después de la corrección\n",
    "            df.at[index, 'error'] = 'N'\n",
    "    \n",
    "    return df"
   ]
  },
  {
   "cell_type": "code",
   "execution_count": null,
   "metadata": {},
   "outputs": [
    {
     "name": "stdout",
     "output_type": "stream",
     "text": [
      "Processing folder: ../../data/raw/traffic/2020\n"
     ]
    },
    {
     "name": "stderr",
     "output_type": "stream",
     "text": [
      "/var/folders/kc/t6c9n8gj7mbblj0w7sy3ykwm0000gn/T/ipykernel_23518/688945497.py:4: FutureWarning: 'H' is deprecated and will be removed in a future version, please use 'h' instead.\n",
      "  df_traffic['hora'] = df_traffic['fecha'].dt.floor('H')\n",
      "Processing groups: 100%|██████████| 2934619/2934619 [05:17<00:00, 9252.35it/s] \n"
     ]
    },
    {
     "name": "stdout",
     "output_type": "stream",
     "text": [
      "Processed and saved: ../../data/processed/traffic/2020/01-2020_processed.csv\n"
     ]
    },
    {
     "name": "stderr",
     "output_type": "stream",
     "text": [
      "/var/folders/kc/t6c9n8gj7mbblj0w7sy3ykwm0000gn/T/ipykernel_23518/688945497.py:4: FutureWarning: 'H' is deprecated and will be removed in a future version, please use 'h' instead.\n",
      "  df_traffic['hora'] = df_traffic['fecha'].dt.floor('H')\n",
      "Processing groups: 100%|██████████| 2915148/2915148 [05:15<00:00, 9225.44it/s] \n"
     ]
    },
    {
     "name": "stdout",
     "output_type": "stream",
     "text": [
      "Processed and saved: ../../data/processed/traffic/2020/10-2020_processed.csv\n"
     ]
    },
    {
     "name": "stderr",
     "output_type": "stream",
     "text": [
      "/var/folders/kc/t6c9n8gj7mbblj0w7sy3ykwm0000gn/T/ipykernel_23518/688945497.py:4: FutureWarning: 'H' is deprecated and will be removed in a future version, please use 'h' instead.\n",
      "  df_traffic['hora'] = df_traffic['fecha'].dt.floor('H')\n",
      "Processing groups: 100%|██████████| 2889274/2889274 [05:03<00:00, 9520.55it/s] \n"
     ]
    },
    {
     "name": "stdout",
     "output_type": "stream",
     "text": [
      "Processed and saved: ../../data/processed/traffic/2020/11-2020_processed.csv\n"
     ]
    },
    {
     "name": "stderr",
     "output_type": "stream",
     "text": [
      "/var/folders/kc/t6c9n8gj7mbblj0w7sy3ykwm0000gn/T/ipykernel_23518/688945497.py:4: FutureWarning: 'H' is deprecated and will be removed in a future version, please use 'h' instead.\n",
      "  df_traffic['hora'] = df_traffic['fecha'].dt.floor('H')\n",
      "Processing groups: 100%|██████████| 2771414/2771414 [04:47<00:00, 9647.52it/s] \n"
     ]
    },
    {
     "name": "stdout",
     "output_type": "stream",
     "text": [
      "Processed and saved: ../../data/processed/traffic/2020/07-2020_processed.csv\n"
     ]
    },
    {
     "name": "stderr",
     "output_type": "stream",
     "text": [
      "/var/folders/kc/t6c9n8gj7mbblj0w7sy3ykwm0000gn/T/ipykernel_23518/688945497.py:4: FutureWarning: 'H' is deprecated and will be removed in a future version, please use 'h' instead.\n",
      "  df_traffic['hora'] = df_traffic['fecha'].dt.floor('H')\n",
      "Processing groups: 100%|██████████| 2688488/2688488 [04:42<00:00, 9524.32it/s] \n"
     ]
    },
    {
     "name": "stdout",
     "output_type": "stream",
     "text": [
      "Processed and saved: ../../data/processed/traffic/2020/06-2020_processed.csv\n"
     ]
    },
    {
     "name": "stderr",
     "output_type": "stream",
     "text": [
      "/var/folders/kc/t6c9n8gj7mbblj0w7sy3ykwm0000gn/T/ipykernel_23518/688945497.py:4: FutureWarning: 'H' is deprecated and will be removed in a future version, please use 'h' instead.\n",
      "  df_traffic['hora'] = df_traffic['fecha'].dt.floor('H')\n",
      "Processing groups: 100%|██████████| 2812572/2812572 [05:09<00:00, 9084.72it/s] \n"
     ]
    },
    {
     "name": "stdout",
     "output_type": "stream",
     "text": [
      "Processed and saved: ../../data/processed/traffic/2020/09-2020_processed.csv\n"
     ]
    },
    {
     "name": "stderr",
     "output_type": "stream",
     "text": [
      "/var/folders/kc/t6c9n8gj7mbblj0w7sy3ykwm0000gn/T/ipykernel_23518/688945497.py:4: FutureWarning: 'H' is deprecated and will be removed in a future version, please use 'h' instead.\n",
      "  df_traffic['hora'] = df_traffic['fecha'].dt.floor('H')\n",
      "Processing groups: 100%|██████████| 2758068/2758068 [05:02<00:00, 9124.68it/s] \n"
     ]
    },
    {
     "name": "stdout",
     "output_type": "stream",
     "text": [
      "Processed and saved: ../../data/processed/traffic/2020/08-2020_processed.csv\n"
     ]
    },
    {
     "name": "stderr",
     "output_type": "stream",
     "text": [
      "/var/folders/kc/t6c9n8gj7mbblj0w7sy3ykwm0000gn/T/ipykernel_23518/688945497.py:4: FutureWarning: 'H' is deprecated and will be removed in a future version, please use 'h' instead.\n",
      "  df_traffic['hora'] = df_traffic['fecha'].dt.floor('H')\n",
      "Processing groups: 100%|██████████| 2905393/2905393 [05:24<00:00, 8965.70it/s] \n"
     ]
    },
    {
     "name": "stdout",
     "output_type": "stream",
     "text": [
      "Processed and saved: ../../data/processed/traffic/2020/03-2020_processed.csv\n"
     ]
    },
    {
     "name": "stderr",
     "output_type": "stream",
     "text": [
      "/var/folders/kc/t6c9n8gj7mbblj0w7sy3ykwm0000gn/T/ipykernel_23518/688945497.py:4: FutureWarning: 'H' is deprecated and will be removed in a future version, please use 'h' instead.\n",
      "  df_traffic['hora'] = df_traffic['fecha'].dt.floor('H')\n",
      "Processing groups: 100%|██████████| 2771056/2771056 [05:09<00:00, 8962.28it/s] \n"
     ]
    },
    {
     "name": "stdout",
     "output_type": "stream",
     "text": [
      "Processed and saved: ../../data/processed/traffic/2020/02-2020_processed.csv\n"
     ]
    },
    {
     "name": "stderr",
     "output_type": "stream",
     "text": [
      "/var/folders/kc/t6c9n8gj7mbblj0w7sy3ykwm0000gn/T/ipykernel_23518/688945497.py:4: FutureWarning: 'H' is deprecated and will be removed in a future version, please use 'h' instead.\n",
      "  df_traffic['hora'] = df_traffic['fecha'].dt.floor('H')\n",
      "Processing groups: 100%|██████████| 2781249/2781249 [05:08<00:00, 9010.96it/s] \n"
     ]
    },
    {
     "name": "stdout",
     "output_type": "stream",
     "text": [
      "Processed and saved: ../../data/processed/traffic/2020/04-2020_processed.csv\n"
     ]
    },
    {
     "name": "stderr",
     "output_type": "stream",
     "text": [
      "/var/folders/kc/t6c9n8gj7mbblj0w7sy3ykwm0000gn/T/ipykernel_23518/688945497.py:4: FutureWarning: 'H' is deprecated and will be removed in a future version, please use 'h' instead.\n",
      "  df_traffic['hora'] = df_traffic['fecha'].dt.floor('H')\n",
      "Processing groups: 100%|██████████| 2820425/2820425 [05:14<00:00, 8966.44it/s] \n"
     ]
    },
    {
     "name": "stdout",
     "output_type": "stream",
     "text": [
      "Processed and saved: ../../data/processed/traffic/2020/05-2020_processed.csv\n"
     ]
    },
    {
     "name": "stderr",
     "output_type": "stream",
     "text": [
      "/var/folders/kc/t6c9n8gj7mbblj0w7sy3ykwm0000gn/T/ipykernel_23518/688945497.py:4: FutureWarning: 'H' is deprecated and will be removed in a future version, please use 'h' instead.\n",
      "  df_traffic['hora'] = df_traffic['fecha'].dt.floor('H')\n",
      "Processing groups: 100%|██████████| 2901171/2901171 [05:26<00:00, 8882.81it/s] \n"
     ]
    },
    {
     "name": "stdout",
     "output_type": "stream",
     "text": [
      "Processed and saved: ../../data/processed/traffic/2020/12-2020_processed.csv\n",
      "Processing folder: ../../data/raw/traffic/2021\n"
     ]
    },
    {
     "name": "stderr",
     "output_type": "stream",
     "text": [
      "/var/folders/kc/t6c9n8gj7mbblj0w7sy3ykwm0000gn/T/ipykernel_23518/688945497.py:4: FutureWarning: 'H' is deprecated and will be removed in a future version, please use 'h' instead.\n",
      "  df_traffic['hora'] = df_traffic['fecha'].dt.floor('H')\n",
      "Processing groups: 100%|██████████| 2739298/2739298 [05:06<00:00, 8938.74it/s] \n"
     ]
    },
    {
     "name": "stdout",
     "output_type": "stream",
     "text": [
      "Processed and saved: ../../data/processed/traffic/2021/01-2021_processed.csv\n"
     ]
    },
    {
     "name": "stderr",
     "output_type": "stream",
     "text": [
      "/var/folders/kc/t6c9n8gj7mbblj0w7sy3ykwm0000gn/T/ipykernel_23518/688945497.py:4: FutureWarning: 'H' is deprecated and will be removed in a future version, please use 'h' instead.\n",
      "  df_traffic['hora'] = df_traffic['fecha'].dt.floor('H')\n",
      "Processing groups: 100%|██████████| 2982970/2982970 [05:34<00:00, 8922.16it/s] \n"
     ]
    },
    {
     "name": "stdout",
     "output_type": "stream",
     "text": [
      "Processed and saved: ../../data/processed/traffic/2021/11-2021_processed.csv\n"
     ]
    },
    {
     "name": "stderr",
     "output_type": "stream",
     "text": [
      "/var/folders/kc/t6c9n8gj7mbblj0w7sy3ykwm0000gn/T/ipykernel_23518/688945497.py:4: FutureWarning: 'H' is deprecated and will be removed in a future version, please use 'h' instead.\n",
      "  df_traffic['hora'] = df_traffic['fecha'].dt.floor('H')\n",
      "Processing groups: 100%|██████████| 3053260/3053260 [05:45<00:00, 8825.41it/s] \n"
     ]
    },
    {
     "name": "stdout",
     "output_type": "stream",
     "text": [
      "Processed and saved: ../../data/processed/traffic/2021/10-2021_processed.csv\n"
     ]
    },
    {
     "name": "stderr",
     "output_type": "stream",
     "text": [
      "/var/folders/kc/t6c9n8gj7mbblj0w7sy3ykwm0000gn/T/ipykernel_23518/688945497.py:4: FutureWarning: 'H' is deprecated and will be removed in a future version, please use 'h' instead.\n",
      "  df_traffic['hora'] = df_traffic['fecha'].dt.floor('H')\n",
      "Processing groups: 100%|██████████| 2940629/2940629 [05:29<00:00, 8913.40it/s] \n"
     ]
    },
    {
     "name": "stdout",
     "output_type": "stream",
     "text": [
      "Processed and saved: ../../data/processed/traffic/2021/06-2021_processed.csv\n"
     ]
    },
    {
     "name": "stderr",
     "output_type": "stream",
     "text": [
      "/var/folders/kc/t6c9n8gj7mbblj0w7sy3ykwm0000gn/T/ipykernel_23518/688945497.py:4: FutureWarning: 'H' is deprecated and will be removed in a future version, please use 'h' instead.\n",
      "  df_traffic['hora'] = df_traffic['fecha'].dt.floor('H')\n",
      "Processing groups: 100%|██████████| 3076848/3076848 [05:47<00:00, 8857.33it/s] \n"
     ]
    },
    {
     "name": "stdout",
     "output_type": "stream",
     "text": [
      "Processed and saved: ../../data/processed/traffic/2021/07-2021_processed.csv\n"
     ]
    },
    {
     "name": "stderr",
     "output_type": "stream",
     "text": [
      "/var/folders/kc/t6c9n8gj7mbblj0w7sy3ykwm0000gn/T/ipykernel_23518/688945497.py:4: FutureWarning: 'H' is deprecated and will be removed in a future version, please use 'h' instead.\n",
      "  df_traffic['hora'] = df_traffic['fecha'].dt.floor('H')\n",
      "Processing groups: 100%|██████████| 3057160/3057160 [05:44<00:00, 8873.83it/s] \n"
     ]
    },
    {
     "name": "stdout",
     "output_type": "stream",
     "text": [
      "Processed and saved: ../../data/processed/traffic/2021/08-2021_processed.csv\n"
     ]
    },
    {
     "name": "stderr",
     "output_type": "stream",
     "text": [
      "/var/folders/kc/t6c9n8gj7mbblj0w7sy3ykwm0000gn/T/ipykernel_23518/688945497.py:4: FutureWarning: 'H' is deprecated and will be removed in a future version, please use 'h' instead.\n",
      "  df_traffic['hora'] = df_traffic['fecha'].dt.floor('H')\n",
      "Processing groups: 100%|██████████| 2969261/2969261 [05:36<00:00, 8820.15it/s] \n"
     ]
    },
    {
     "name": "stdout",
     "output_type": "stream",
     "text": [
      "Processed and saved: ../../data/processed/traffic/2021/09-2021_processed.csv\n"
     ]
    },
    {
     "name": "stderr",
     "output_type": "stream",
     "text": [
      "/var/folders/kc/t6c9n8gj7mbblj0w7sy3ykwm0000gn/T/ipykernel_23518/688945497.py:4: FutureWarning: 'H' is deprecated and will be removed in a future version, please use 'h' instead.\n",
      "  df_traffic['hora'] = df_traffic['fecha'].dt.floor('H')\n",
      "Processing groups: 100%|██████████| 2688636/2688636 [05:03<00:00, 8863.86it/s] \n"
     ]
    },
    {
     "name": "stdout",
     "output_type": "stream",
     "text": [
      "Processed and saved: ../../data/processed/traffic/2021/02-2021_processed.csv\n"
     ]
    },
    {
     "name": "stderr",
     "output_type": "stream",
     "text": [
      "/var/folders/kc/t6c9n8gj7mbblj0w7sy3ykwm0000gn/T/ipykernel_23518/688945497.py:4: FutureWarning: 'H' is deprecated and will be removed in a future version, please use 'h' instead.\n",
      "  df_traffic['hora'] = df_traffic['fecha'].dt.floor('H')\n",
      "Processing groups: 100%|██████████| 3048199/3048199 [05:48<00:00, 8756.28it/s] \n"
     ]
    },
    {
     "name": "stdout",
     "output_type": "stream",
     "text": [
      "Processed and saved: ../../data/processed/traffic/2021/03-2021_processed.csv\n"
     ]
    },
    {
     "name": "stderr",
     "output_type": "stream",
     "text": [
      "/var/folders/kc/t6c9n8gj7mbblj0w7sy3ykwm0000gn/T/ipykernel_23518/688945497.py:4: FutureWarning: 'H' is deprecated and will be removed in a future version, please use 'h' instead.\n",
      "  df_traffic['hora'] = df_traffic['fecha'].dt.floor('H')\n",
      "Processing groups: 100%|██████████| 3044741/3044741 [05:45<00:00, 8813.13it/s] \n"
     ]
    },
    {
     "name": "stdout",
     "output_type": "stream",
     "text": [
      "Processed and saved: ../../data/processed/traffic/2021/05-2021_processed.csv\n"
     ]
    },
    {
     "name": "stderr",
     "output_type": "stream",
     "text": [
      "/var/folders/kc/t6c9n8gj7mbblj0w7sy3ykwm0000gn/T/ipykernel_23518/688945497.py:4: FutureWarning: 'H' is deprecated and will be removed in a future version, please use 'h' instead.\n",
      "  df_traffic['hora'] = df_traffic['fecha'].dt.floor('H')\n",
      "Processing groups: 100%|██████████| 2944647/2944647 [05:35<00:00, 8779.81it/s] \n"
     ]
    },
    {
     "name": "stdout",
     "output_type": "stream",
     "text": [
      "Processed and saved: ../../data/processed/traffic/2021/04-2021_processed.csv\n"
     ]
    },
    {
     "name": "stderr",
     "output_type": "stream",
     "text": [
      "/var/folders/kc/t6c9n8gj7mbblj0w7sy3ykwm0000gn/T/ipykernel_23518/688945497.py:4: FutureWarning: 'H' is deprecated and will be removed in a future version, please use 'h' instead.\n",
      "  df_traffic['hora'] = df_traffic['fecha'].dt.floor('H')\n",
      "Processing groups:   0%|          | 0/3125231 [00:00<?, ?it/s]"
     ]
    }
   ],
   "source": [
    "import os\n",
    "import pandas as pd\n",
    "\n",
    "# Define the root directory\n",
    "root_dir = '../../data/raw/traffic'\n",
    "\n",
    "# Iterate through all year folders\n",
    "for year in range(2020, 2024):\n",
    "    year_folder = os.path.join(root_dir, str(year))\n",
    "    \n",
    "    # Check if the year folder exists\n",
    "    if os.path.isdir(year_folder):\n",
    "        print(f\"Processing folder: {year_folder}\")\n",
    "        \n",
    "        # Iterate through files in the year folder\n",
    "        for file_name in os.listdir(year_folder):\n",
    "            if file_name.endswith('.csv'):  # Ensure it's a CSV file\n",
    "                \n",
    "                \n",
    "                file_path = os.path.join(year_folder, file_name)\n",
    "                \n",
    "                # Read the CSV file\n",
    "                try:\n",
    "                    df = pd.read_csv(file_path, delimiter= \";\")\n",
    "                    \n",
    "                    if 'S' in df.error.unique():\n",
    "                        print(f\"There are errors in file: {file_name}\")\n",
    "                        print(\"There are a total of \", len(df[df['error'] == 'S']) , \" errors\")\n",
    "                        \n",
    "                        df = corregir_errores(df)\n",
    "                        \n",
    "                    df = df.rename(columns = {'identif':'id'})\n",
    "                    df = process_traffic_data(df)\n",
    "                        \n",
    "                    # Create the new file name\n",
    "                    new_file_name = f\"{file_name[:-4]}_processed.csv\"\n",
    "                    new_file_path = os.path.join(year_folder, new_file_name)\n",
    "                    \n",
    "                    new_file_path = new_file_path.replace(\"raw\", \"processed\")\n",
    "\n",
    "                    # Save the processed DataFrame\n",
    "                    df.to_csv(new_file_path, index=False)\n",
    "                    \n",
    "                    print(f\"Processed and saved: {new_file_path}\")\n",
    "                except Exception as e:\n",
    "                    print(f\"Error processing file {file_name}: {e}\")\n"
   ]
  },
  {
   "cell_type": "code",
   "execution_count": null,
   "metadata": {},
   "outputs": [],
   "source": []
  }
 ],
 "metadata": {
  "kernelspec": {
   "display_name": "master_thesis",
   "language": "python",
   "name": "python3"
  },
  "language_info": {
   "codemirror_mode": {
    "name": "ipython",
    "version": 3
   },
   "file_extension": ".py",
   "mimetype": "text/x-python",
   "name": "python",
   "nbconvert_exporter": "python",
   "pygments_lexer": "ipython3",
   "version": "3.12.8"
  }
 },
 "nbformat": 4,
 "nbformat_minor": 2
}
